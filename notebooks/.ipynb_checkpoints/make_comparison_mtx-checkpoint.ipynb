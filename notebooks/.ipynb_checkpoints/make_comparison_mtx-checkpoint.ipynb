{
 "cells": [
  {
   "cell_type": "code",
   "execution_count": 1,
   "metadata": {},
   "outputs": [
    {
     "name": "stdout",
     "output_type": "stream",
     "text": [
      "Thu May  7 09:54:51 PDT 2020\n"
     ]
    }
   ],
   "source": [
    "!date"
   ]
  },
  {
   "cell_type": "code",
   "execution_count": 1,
   "metadata": {},
   "outputs": [
    {
     "name": "stdout",
     "output_type": "stream",
     "text": [
      "Cloning into 'BLCSBGLKP_2020'...\n",
      "remote: Enumerating objects: 114, done.\u001b[K\n",
      "remote: Counting objects: 100% (114/114), done.\u001b[K\n",
      "remote: Compressing objects: 100% (103/103), done.\u001b[K\n",
      "remote: Total 114 (delta 19), reused 61 (delta 6), pack-reused 0\u001b[K\n",
      "Receiving objects: 100% (114/114), 23.60 MiB | 24.74 MiB/s, done.\n",
      "Resolving deltas: 100% (19/19), done.\n"
     ]
    }
   ],
   "source": [
    "!git clone https://github.com/pachterlab/BLCSBGLKP_2020.git"
   ]
  },
  {
   "cell_type": "code",
   "execution_count": null,
   "metadata": {},
   "outputs": [],
   "source": [
    "!pip install anndata"
   ]
  },
  {
   "cell_type": "markdown",
   "metadata": {},
   "source": [
    "# Make matrix for comparison with TRB and LAMP"
   ]
  },
  {
   "cell_type": "code",
   "execution_count": 1,
   "metadata": {},
   "outputs": [
    {
     "name": "stderr",
     "output_type": "stream",
     "text": [
      "/home/sina/bin/miniconda3/lib/python3.7/site-packages/anndata/_core/anndata.py:21: FutureWarning: pandas.core.index is deprecated and will be removed in a future version.  The public classes are available in the top-level namespace.\n",
      "  from pandas.core.index import RangeIndex\n"
     ]
    }
   ],
   "source": [
    "import pandas as pd\n",
    "import numpy as np\n",
    "import matplotlib.pyplot as plt\n",
    "import matplotlib as mpl\n",
    "import matplotlib.patches as mpatches\n",
    "from mpl_toolkits.axes_grid1 import make_axes_locatable\n",
    "\n",
    "import string\n",
    "import anndata\n",
    "from collections import defaultdict\n",
    "\n",
    "from sklearn.manifold import TSNE\n",
    "from sklearn.cluster import KMeans\n",
    "from sklearn.preprocessing import scale\n",
    "from sklearn.preprocessing import normalize\n",
    "from sklearn.decomposition import TruncatedSVD\n",
    "from sklearn.linear_model import LogisticRegression, LinearRegression, Ridge\n",
    "from sklearn.model_selection import train_test_split\n",
    "from sklearn import metrics\n",
    "from scipy.special import expit as sigmoid\n",
    "\n",
    "\n",
    "def nd(arr):\n",
    "    return np.asarray(arr).reshape(-1)\n",
    "\n",
    "def yex(ax):\n",
    "    lims = [\n",
    "        np.min([ax.get_xlim(), ax.get_ylim()]),  # min of both axes\n",
    "        np.max([ax.get_xlim(), ax.get_ylim()]),  # max of both axes\n",
    "    ]\n",
    "    \n",
    "    # now plot both limits against eachother\n",
    "    #ax.plot(lims, lims, 'k-', alpha=0.75, zorder=0)\n",
    "    ax.set_aspect('equal')\n",
    "    ax.set_xlim(lims)\n",
    "    ax.set_ylim(lims)\n",
    "    return ax\n",
    "\n",
    "fsize=15\n",
    "\n",
    "plt.rcParams.update({'font.size': fsize})\n",
    "%config InlineBackend.figure_format = 'retina'"
   ]
  },
  {
   "cell_type": "code",
   "execution_count": 2,
   "metadata": {},
   "outputs": [
    {
     "name": "stderr",
     "output_type": "stream",
     "text": [
      "Trying to set attribute `.obs` of view, copying.\n"
     ]
    }
   ],
   "source": [
    "adata = anndata.read_h5ad(\"BLCSBGLKP_2020/data/kb/adata.h5ad\")\n",
    "adata = adata[:,adata.var.sort_values(\"gene\").index]\n",
    "\n",
    "adata.obs[\"Twist_bool\"] = np.logical_and(adata.obs.ATCC_viral.values==0, adata.obs.ATCC_RNA.values==0)\n",
    "adata.obs[\"ATCC_viral_bool\"] = np.logical_and(adata.obs.Twist.values==0, adata.obs.ATCC_RNA.values==0)\n",
    "adata.obs[\"ATCC_RNA_bool\"] = np.logical_and(adata.obs.Twist.values==0, adata.obs.ATCC_viral.values==0)"
   ]
  },
  {
   "cell_type": "code",
   "execution_count": 3,
   "metadata": {},
   "outputs": [],
   "source": [
    "mtx = adata.layers[\"raw\"]\n",
    "gene = adata.var.gene.values\n",
    "obs = adata.obs\n",
    "\n",
    "p, l, g, c = (\"Plate1\", \"HEK293\", \"N1\", \"Twist\")\n",
    "\n",
    "pmask = obs.plate.values==p\n",
    "cmask = obs[c+\"_bool\"].values\n",
    "lmask = obs.lysate.values==l\n",
    "gzero = obs[c].values>0\n",
    "\n",
    "m = np.logical_and.reduce([pmask, cmask, lmask])#, gzero])\n",
    "vm = np.logical_or.reduce([gene==g, gene==g+\"_spikein\", gene==\"RPP30\"])\n",
    "\n",
    "s_idx = np.where(gene==g+\"_spikein\")\n",
    "v_idx = np.where(gene==g)"
   ]
  },
  {
   "cell_type": "code",
   "execution_count": 4,
   "metadata": {},
   "outputs": [
    {
     "data": {
      "text/plain": [
       "array(['N1', 'N1_spikein', 'RPP30'], dtype=object)"
      ]
     },
     "execution_count": 4,
     "metadata": {},
     "output_type": "execute_result"
    }
   ],
   "source": [
    "gene[vm]"
   ]
  },
  {
   "cell_type": "code",
   "execution_count": 5,
   "metadata": {},
   "outputs": [
    {
     "data": {
      "text/plain": [
       "array([[ 36528,  11486,      3],\n",
       "       [269101,  34082,     69],\n",
       "       [ 71000,   4920,     36],\n",
       "       [275256,  13136,     52],\n",
       "       [   328,  71991,      1],\n",
       "       [   251,  42350,      5],\n",
       "       [  2285, 113329,      3],\n",
       "       [    59, 168450,      9],\n",
       "       [  7891,  69550,      8],\n",
       "       [ 27664, 129199,    150]])"
      ]
     },
     "execution_count": 5,
     "metadata": {},
     "output_type": "execute_result"
    }
   ],
   "source": [
    "mtx[m][:,vm].astype(int)[0:10]"
   ]
  },
  {
   "cell_type": "markdown",
   "metadata": {},
   "source": [
    "# Save"
   ]
  },
  {
   "cell_type": "code",
   "execution_count": 6,
   "metadata": {},
   "outputs": [],
   "source": [
    "!mkdir temporary"
   ]
  },
  {
   "cell_type": "code",
   "execution_count": 7,
   "metadata": {},
   "outputs": [],
   "source": [
    "np.savetxt(\"temporary/mtx.csv\", mtx.astype(int)[m][:,vm], delimiter=\",\", fmt=\"%.0f\") \n",
    "obs[\"bcs\"][m].to_csv(\"temporary/ss_bcs.txt\", index=False, header=None)"
   ]
  },
  {
   "cell_type": "code",
   "execution_count": null,
   "metadata": {},
   "outputs": [],
   "source": []
  }
 ],
 "metadata": {
  "kernelspec": {
   "display_name": "Python 3",
   "language": "python",
   "name": "python3"
  },
  "language_info": {
   "codemirror_mode": {
    "name": "ipython",
    "version": 3
   },
   "file_extension": ".py",
   "mimetype": "text/x-python",
   "name": "python",
   "nbconvert_exporter": "python",
   "pygments_lexer": "ipython3",
   "version": "3.7.4"
  }
 },
 "nbformat": 4,
 "nbformat_minor": 4
}
