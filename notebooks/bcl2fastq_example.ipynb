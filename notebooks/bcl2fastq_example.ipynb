{
  "nbformat": 4,
  "nbformat_minor": 0,
  "metadata": {
    "colab": {
      "name": "bcl2fastq_example.ipynb",
      "provenance": [],
      "authorship_tag": "ABX9TyMrVAjf9hFhhFsW8CisxeTQ",
      "include_colab_link": true
    },
    "kernelspec": {
      "name": "python3",
      "display_name": "Python 3"
    }
  },
  "cells": [
    {
      "cell_type": "markdown",
      "metadata": {
        "id": "view-in-github",
        "colab_type": "text"
      },
      "source": [
        "<a href=\"https://colab.research.google.com/github/pachterlab/BLCSBGLKP_2020/blob/master/notebooks/bcl2fastq_example.ipynb\" target=\"_parent\"><img src=\"https://colab.research.google.com/assets/colab-badge.svg\" alt=\"Open In Colab\"/></a>"
      ]
    },
    {
      "cell_type": "code",
      "metadata": {
        "id": "F9CjFU8Acpbj",
        "colab_type": "code",
        "colab": {
          "base_uri": "https://localhost:8080/",
          "height": 289
        },
        "outputId": "28b6b5ca-10c3-4f4f-e3ad-a8d557a19ffc"
      },
      "source": [
        "!git clone https://github.com/sbooeshaghi/bcltools.git\n",
        "!cd bcltools/ && pip install ."
      ],
      "execution_count": 1,
      "outputs": [
        {
          "output_type": "stream",
          "text": [
            "Cloning into 'bcltools'...\n",
            "remote: Enumerating objects: 203, done.\u001b[K\n",
            "remote: Counting objects: 100% (203/203), done.\u001b[K\n",
            "remote: Compressing objects: 100% (147/147), done.\u001b[K\n",
            "remote: Total 203 (delta 122), reused 125 (delta 53), pack-reused 0\u001b[K\n",
            "Receiving objects: 100% (203/203), 310.94 KiB | 4.04 MiB/s, done.\n",
            "Resolving deltas: 100% (122/122), done.\n",
            "Processing /content/bcltools\n",
            "Building wheels for collected packages: bcltools\n",
            "  Building wheel for bcltools (setup.py) ... \u001b[?25l\u001b[?25hdone\n",
            "  Created wheel for bcltools: filename=bcltools-0.0.1-cp36-none-any.whl size=14921 sha256=f44f5a2e55bf4b8934c487d27d371b470bcb42ac9c57686d6d497c4c5da7b0ef\n",
            "  Stored in directory: /tmp/pip-ephem-wheel-cache-j2k27r61/wheels/f5/f6/bf/8b3a08b444993a89b7fddccc12f2ef18f734621b3c66c448fb\n",
            "Successfully built bcltools\n",
            "Installing collected packages: bcltools\n",
            "Successfully installed bcltools-0.0.1\n"
          ],
          "name": "stdout"
        }
      ]
    },
    {
      "cell_type": "code",
      "metadata": {
        "id": "5dKlsLqIdE4i",
        "colab_type": "code",
        "colab": {
          "base_uri": "https://localhost:8080/",
          "height": 151
        },
        "outputId": "acf0f75d-d464-401a-a5b2-f61c3bf250c7"
      },
      "source": [
        "!bcltools read -x nextseq bcltools/examples/bcl.bcl | head -8"
      ],
      "execution_count": 4,
      "outputs": [
        {
          "output_type": "stream",
          "text": [
            "G\tA\n",
            "G\tA\n",
            "A\tA\n",
            "T\tA\n",
            "T\t6\n",
            "T\tA\n",
            "T\tA\n",
            "A\tA\n"
          ],
          "name": "stdout"
        }
      ]
    },
    {
      "cell_type": "code",
      "metadata": {
        "id": "dQgoB2-ilpOM",
        "colab_type": "code",
        "colab": {
          "base_uri": "https://localhost:8080/",
          "height": 588
        },
        "outputId": "5df726b7-07e8-40db-86f2-66fe9b0661b8"
      },
      "source": [
        "!zcat /content/bcltools/examples/swabseq_i1.fastq.gz \n",
        "!zcat /content/bcltools/examples/swabseq_r1.fastq.gz\n",
        "!zcat /content/bcltools/examples/swabseq_r2.fastq.gz"
      ],
      "execution_count": 24,
      "outputs": [
        {
          "output_type": "stream",
          "text": [
            "@NB552046:38:HLHM2BGXF:1:11101:26254:5794 1:N:0:0\n",
            "AAAAAAAA\n",
            "+\n",
            "AAAAAEEE\n",
            "@NB552046:38:HLHM2BGXF:1:11101:10616:5794 1:N:0:0\n",
            "AAAAAAAA\n",
            "+\n",
            "AAAAAEEE\n",
            "@NB552046:38:HLHM2BGXF:1:11101:24326:5795 1:N:0:0\n",
            "AAAAAAAA\n",
            "+\n",
            "AAAAAEEE@NB552046:38:HLHM2BGXF:1:11101:26254:5794 1:N:0:0\n",
            "TGGCATTTCTACTCTTTCTCAATCCC\n",
            "+\n",
            "AAAAAEEEEEEEEEEEEEEEEEEEEE\n",
            "@NB552046:38:HLHM2BGXF:1:11101:10616:5794 1:N:0:0\n",
            "GTTTCCGTTGCTGCCATCTCAAAAAC\n",
            "+\n",
            "AAAAAEEEEEEEEEEEEEEEEEEEEE\n",
            "@NB552046:38:HLHM2BGXF:1:11101:24326:5795 1:N:0:0\n",
            "TGGCGGCGATTGCGTACCCGACGACC\n",
            "+\n",
            "AAAAAEEEEEEEEEEEEEEEEEE/EE@NB552046:38:HLHM2BGXF:1:11101:26254:5794 2:N:0:0\n",
            "CAAAAACC\n",
            "+\n",
            "AAAAAEEE\n",
            "@NB552046:38:HLHM2BGXF:1:11101:10616:5794 2:N:0:0\n",
            "AAAAAAAA\n",
            "+\n",
            "AAAAAEEE\n",
            "@NB552046:38:HLHM2BGXF:1:11101:24326:5795 2:N:0:0\n",
            "CAAAAAAC\n",
            "+\n",
            "AAAAAEEE"
          ],
          "name": "stdout"
        }
      ]
    },
    {
      "cell_type": "code",
      "metadata": {
        "id": "80sAqLJnlFU4",
        "colab_type": "code",
        "colab": {
          "base_uri": "https://localhost:8080/",
          "height": 185
        },
        "outputId": "5029f07a-2c12-4400-dd9f-9d324dfd5208"
      },
      "source": [
        "!bcltools convert -x miseq -o ./ -n 1 \\\n",
        "/content/bcltools/examples/swabseq_i1.fastq.gz \\\n",
        "/content/bcltools/examples/swabseq_r1.fastq.gz \\\n",
        "/content/bcltools/examples/swabseq_r2.fastq.gz"
      ],
      "execution_count": 23,
      "outputs": [
        {
          "output_type": "stream",
          "text": [
            "[2020-06-15 06:06:48,162]    INFO Number of FASTQ Files 3\n",
            "[2020-06-15 06:06:48,162]    INFO Counting number of cycles\n",
            "[2020-06-15 06:06:48,162]    INFO Counting number of reads\n",
            "[2020-06-15 06:06:48,163]    INFO Initializing BCL Folder structure\n",
            "[2020-06-15 06:06:48,163]    INFO Initializing LOCS and BCL files\n",
            "[2020-06-15 06:06:48,227]    INFO Writing records to LOCS and BCL files\n",
            "28\n",
            "[1, 1, 1, 0, 0, 0, 0, 0, 0, 0, 0, 0, 0, 0, 0, 0, 0, 0, 0, 0, 0, 0, 0, 0, 0, 0, 0, 0]\n",
            "[2020-06-15 06:06:48,228]    INFO Wrote 0 reads\n",
            "[2020-06-15 06:06:48,231]    INFO Wrote 3 reads\n"
          ],
          "name": "stdout"
        }
      ]
    },
    {
      "cell_type": "code",
      "metadata": {
        "id": "LLKGM3wOlXcl",
        "colab_type": "code",
        "colab": {
          "base_uri": "https://localhost:8080/",
          "height": 336
        },
        "outputId": "e1396eb8-ebb0-4f26-b4d7-7e2211e76805"
      },
      "source": [
        "!apt-get install tree"
      ],
      "execution_count": 28,
      "outputs": [
        {
          "output_type": "stream",
          "text": [
            "Reading package lists... Done\n",
            "Building dependency tree       \n",
            "Reading state information... Done\n",
            "The following package was automatically installed and is no longer required:\n",
            "  libnvidia-common-440\n",
            "Use 'apt autoremove' to remove it.\n",
            "The following NEW packages will be installed:\n",
            "  tree\n",
            "0 upgraded, 1 newly installed, 0 to remove and 17 not upgraded.\n",
            "Need to get 40.7 kB of archives.\n",
            "After this operation, 105 kB of additional disk space will be used.\n",
            "Get:1 http://archive.ubuntu.com/ubuntu bionic/universe amd64 tree amd64 1.7.0-5 [40.7 kB]\n",
            "Fetched 40.7 kB in 0s (102 kB/s)\n",
            "Selecting previously unselected package tree.\n",
            "(Reading database ... 144340 files and directories currently installed.)\n",
            "Preparing to unpack .../tree_1.7.0-5_amd64.deb ...\n",
            "Unpacking tree (1.7.0-5) ...\n",
            "Setting up tree (1.7.0-5) ...\n",
            "Processing triggers for man-db (2.8.3-2ubuntu0.1) ...\n"
          ],
          "name": "stdout"
        }
      ]
    },
    {
      "cell_type": "code",
      "metadata": {
        "id": "iQqzCia3l_nl",
        "colab_type": "code",
        "colab": {
          "base_uri": "https://localhost:8080/",
          "height": 840
        },
        "outputId": "11ea22ee-c677-4958-c5df-c1c4ff0d4f96"
      },
      "source": [
        "!tree -d Data"
      ],
      "execution_count": 30,
      "outputs": [
        {
          "output_type": "stream",
          "text": [
            "Data\n",
            "└── Intensities\n",
            "    ├── BaseCalls\n",
            "    │   └── L001\n",
            "    │       ├── C10.1\n",
            "    │       ├── C1.1\n",
            "    │       ├── C11.1\n",
            "    │       ├── C12.1\n",
            "    │       ├── C13.1\n",
            "    │       ├── C14.1\n",
            "    │       ├── C15.1\n",
            "    │       ├── C16.1\n",
            "    │       ├── C17.1\n",
            "    │       ├── C18.1\n",
            "    │       ├── C19.1\n",
            "    │       ├── C20.1\n",
            "    │       ├── C2.1\n",
            "    │       ├── C21.1\n",
            "    │       ├── C22.1\n",
            "    │       ├── C23.1\n",
            "    │       ├── C24.1\n",
            "    │       ├── C25.1\n",
            "    │       ├── C26.1\n",
            "    │       ├── C27.1\n",
            "    │       ├── C28.1\n",
            "    │       ├── C29.1\n",
            "    │       ├── C30.1\n",
            "    │       ├── C3.1\n",
            "    │       ├── C31.1\n",
            "    │       ├── C32.1\n",
            "    │       ├── C33.1\n",
            "    │       ├── C34.1\n",
            "    │       ├── C35.1\n",
            "    │       ├── C36.1\n",
            "    │       ├── C37.1\n",
            "    │       ├── C38.1\n",
            "    │       ├── C39.1\n",
            "    │       ├── C40.1\n",
            "    │       ├── C4.1\n",
            "    │       ├── C41.1\n",
            "    │       ├── C42.1\n",
            "    │       ├── C5.1\n",
            "    │       ├── C6.1\n",
            "    │       ├── C7.1\n",
            "    │       ├── C8.1\n",
            "    │       └── C9.1\n",
            "    └── L001\n",
            "\n",
            "46 directories\n"
          ],
          "name": "stdout"
        }
      ]
    },
    {
      "cell_type": "code",
      "metadata": {
        "id": "F8eRcQAlmL1v",
        "colab_type": "code",
        "colab": {
          "base_uri": "https://localhost:8080/",
          "height": 34
        },
        "outputId": "1a784fc5-f336-4f71-c468-bd3c84935166"
      },
      "source": [
        "!bcltools read -x miseq Data/Intensities/BaseCalls/L001/C11.1/s_1_1101.bcl"
      ],
      "execution_count": 33,
      "outputs": [
        {
          "output_type": "stream",
          "text": [
            "G\tA\n"
          ],
          "name": "stdout"
        }
      ]
    },
    {
      "cell_type": "code",
      "metadata": {
        "id": "7CE0jfaqmWmU",
        "colab_type": "code",
        "colab": {}
      },
      "source": [
        ""
      ],
      "execution_count": 0,
      "outputs": []
    }
  ]
}