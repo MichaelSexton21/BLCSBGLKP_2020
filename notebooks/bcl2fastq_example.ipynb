{
  "nbformat": 4,
  "nbformat_minor": 0,
  "metadata": {
    "colab": {
      "name": "bcl2fastq_example.ipynb",
      "provenance": [],
      "authorship_tag": "ABX9TyPxnQ93HddvBhZwxNGZUurI",
      "include_colab_link": true
    },
    "kernelspec": {
      "name": "python3",
      "display_name": "Python 3"
    }
  },
  "cells": [
    {
      "cell_type": "markdown",
      "metadata": {
        "id": "view-in-github",
        "colab_type": "text"
      },
      "source": [
        "<a href=\"https://colab.research.google.com/github/pachterlab/BLCSBGLKP_2020/blob/master/notebooks/bcl2fastq_example.ipynb\" target=\"_parent\"><img src=\"https://colab.research.google.com/assets/colab-badge.svg\" alt=\"Open In Colab\"/></a>"
      ]
    },
    {
      "cell_type": "code",
      "metadata": {
        "id": "F9CjFU8Acpbj",
        "colab_type": "code",
        "outputId": "765520a7-2866-45e6-f26e-a5103d67ea0d",
        "colab": {
          "base_uri": "https://localhost:8080/",
          "height": 487
        }
      },
      "source": [
        "!git clone https://github.com/igorbarinov/bcl2fastq.git\n",
        "!git clone https://github.com/pachterlab/BLCSBGLKP_2020.git\n",
        "!git clone https://github.com/sbooeshaghi/bcltools.git\n",
        "!cd bcltools/ && pip install ."
      ],
      "execution_count": 1,
      "outputs": [
        {
          "output_type": "stream",
          "text": [
            "Cloning into 'bcl2fastq'...\n",
            "remote: Enumerating objects: 41, done.\u001b[K\n",
            "remote: Counting objects: 100% (41/41), done.\u001b[K\n",
            "remote: Compressing objects: 100% (21/21), done.\u001b[K\n",
            "remote: Total 41 (delta 20), reused 41 (delta 20), pack-reused 0\u001b[K\n",
            "Unpacking objects: 100% (41/41), done.\n",
            "Cloning into 'BLCSBGLKP_2020'...\n",
            "remote: Enumerating objects: 216, done.\u001b[K\n",
            "remote: Counting objects: 100% (216/216), done.\u001b[K\n",
            "remote: Compressing objects: 100% (197/197), done.\u001b[K\n",
            "remote: Total 216 (delta 74), reused 86 (delta 14), pack-reused 0\u001b[K\n",
            "Receiving objects: 100% (216/216), 41.73 MiB | 22.95 MiB/s, done.\n",
            "Resolving deltas: 100% (74/74), done.\n",
            "Cloning into 'bcltools'...\n",
            "remote: Enumerating objects: 206, done.\u001b[K\n",
            "remote: Counting objects: 100% (206/206), done.\u001b[K\n",
            "remote: Compressing objects: 100% (150/150), done.\u001b[K\n",
            "remote: Total 206 (delta 124), reused 124 (delta 53), pack-reused 0\u001b[K\n",
            "Receiving objects: 100% (206/206), 311.68 KiB | 1.21 MiB/s, done.\n",
            "Resolving deltas: 100% (124/124), done.\n",
            "Processing /content/bcltools\n",
            "Building wheels for collected packages: bcltools\n",
            "  Building wheel for bcltools (setup.py) ... \u001b[?25l\u001b[?25hdone\n",
            "  Created wheel for bcltools: filename=bcltools-0.0.1-cp36-none-any.whl size=15001 sha256=457c256f29b85b514a2aa3c1149c5b85980445a87e5433e1d75076a0bde47991\n",
            "  Stored in directory: /tmp/pip-ephem-wheel-cache-84htaq1l/wheels/f5/f6/bf/8b3a08b444993a89b7fddccc12f2ef18f734621b3c66c448fb\n",
            "Successfully built bcltools\n",
            "Installing collected packages: bcltools\n",
            "Successfully installed bcltools-0.0.1\n"
          ],
          "name": "stdout"
        }
      ]
    },
    {
      "cell_type": "code",
      "metadata": {
        "id": "LLKGM3wOlXcl",
        "colab_type": "code",
        "outputId": "274e81ca-5613-47a1-a0b5-04023d51ec7a",
        "colab": {
          "base_uri": "https://localhost:8080/",
          "height": 118
        }
      },
      "source": [
        "!apt-get -qq install tree"
      ],
      "execution_count": 2,
      "outputs": [
        {
          "output_type": "stream",
          "text": [
            "Selecting previously unselected package tree.\n",
            "(Reading database ... 144328 files and directories currently installed.)\n",
            "Preparing to unpack .../tree_1.7.0-5_amd64.deb ...\n",
            "Unpacking tree (1.7.0-5) ...\n",
            "Setting up tree (1.7.0-5) ...\n",
            "Processing triggers for man-db (2.8.3-2ubuntu0.1) ...\n"
          ],
          "name": "stdout"
        }
      ]
    },
    {
      "cell_type": "code",
      "metadata": {
        "id": "6Mrh9jlnnsNm",
        "colab_type": "code",
        "outputId": "8f712fcf-c8ef-4b05-bdd9-a3cfa076c3c7",
        "colab": {
          "base_uri": "https://localhost:8080/",
          "height": 101
        }
      },
      "source": [
        "!dpkg -i BLCSBGLKP_2020/data/bcl2fastq2-v2.20.0.422-Linux-x86_64_gcc7.3.deb"
      ],
      "execution_count": 3,
      "outputs": [
        {
          "output_type": "stream",
          "text": [
            "Selecting previously unselected package bcl2fastq2.\n",
            "(Reading database ... \r(Reading database ... 5%\r(Reading database ... 10%\r(Reading database ... 15%\r(Reading database ... 20%\r(Reading database ... 25%\r(Reading database ... 30%\r(Reading database ... 35%\r(Reading database ... 40%\r(Reading database ... 45%\r(Reading database ... 50%\r(Reading database ... 55%\r(Reading database ... 60%\r(Reading database ... 65%\r(Reading database ... 70%\r(Reading database ... 75%\r(Reading database ... 80%\r(Reading database ... 85%\r(Reading database ... 90%\r(Reading database ... 95%\r(Reading database ... 100%\r(Reading database ... 144335 files and directories currently installed.)\n",
            "Preparing to unpack .../bcl2fastq2-v2.20.0.422-Linux-x86_64_gcc7.3.deb ...\n",
            "Unpacking bcl2fastq2 (2.20.0.422) ...\n",
            "Setting up bcl2fastq2 (2.20.0.422) ...\n"
          ],
          "name": "stdout"
        }
      ]
    },
    {
      "cell_type": "markdown",
      "metadata": {
        "id": "-oVC5gF2rpWx",
        "colab_type": "text"
      },
      "source": [
        "# Use bcltools to generate bclfiles"
      ]
    },
    {
      "cell_type": "code",
      "metadata": {
        "id": "5dKlsLqIdE4i",
        "colab_type": "code",
        "outputId": "10ab9838-dfb3-4aeb-ade6-2dfccba61847",
        "colab": {
          "base_uri": "https://localhost:8080/",
          "height": 151
        }
      },
      "source": [
        "!bcltools read -x nextseq bcltools/examples/bcl.bcl | head -8"
      ],
      "execution_count": 4,
      "outputs": [
        {
          "output_type": "stream",
          "text": [
            "G\tA\n",
            "G\tA\n",
            "A\tA\n",
            "T\tA\n",
            "T\t6\n",
            "T\tA\n",
            "T\tA\n",
            "A\tA\n"
          ],
          "name": "stdout"
        }
      ]
    },
    {
      "cell_type": "code",
      "metadata": {
        "id": "dQgoB2-ilpOM",
        "colab_type": "code",
        "outputId": "ddf65bc7-facf-4064-ad56-11df0e9ae92e",
        "colab": {
          "base_uri": "https://localhost:8080/",
          "height": 588
        }
      },
      "source": [
        "!zcat /content/bcltools/examples/swabseq_i1.fastq.gz \n",
        "!zcat /content/bcltools/examples/swabseq_r1.fastq.gz\n",
        "!zcat /content/bcltools/examples/swabseq_r2.fastq.gz"
      ],
      "execution_count": 5,
      "outputs": [
        {
          "output_type": "stream",
          "text": [
            "@NB552046:38:HLHM2BGXF:1:11101:26254:5794 1:N:0:0\n",
            "AAAAAAAA\n",
            "+\n",
            "AAAAAEEE\n",
            "@NB552046:38:HLHM2BGXF:1:11101:10616:5794 1:N:0:0\n",
            "AAAAAAAA\n",
            "+\n",
            "AAAAAEEE\n",
            "@NB552046:38:HLHM2BGXF:1:11101:24326:5795 1:N:0:0\n",
            "AAAAAAAA\n",
            "+\n",
            "AAAAAEEE@NB552046:38:HLHM2BGXF:1:11101:26254:5794 1:N:0:0\n",
            "TGGCATTTCTACTCTTTCTCAATCCC\n",
            "+\n",
            "AAAAAEEEEEEEEEEEEEEEEEEEEE\n",
            "@NB552046:38:HLHM2BGXF:1:11101:10616:5794 1:N:0:0\n",
            "GTTTCCGTTGCTGCCATCTCAAAAAC\n",
            "+\n",
            "AAAAAEEEEEEEEEEEEEEEEEEEEE\n",
            "@NB552046:38:HLHM2BGXF:1:11101:24326:5795 1:N:0:0\n",
            "TGGCGGCGATTGCGTACCCGACGACC\n",
            "+\n",
            "AAAAAEEEEEEEEEEEEEEEEEE/EE@NB552046:38:HLHM2BGXF:1:11101:26254:5794 2:N:0:0\n",
            "CAAAAACC\n",
            "+\n",
            "AAAAAEEE\n",
            "@NB552046:38:HLHM2BGXF:1:11101:10616:5794 2:N:0:0\n",
            "AAAAAAAA\n",
            "+\n",
            "AAAAAEEE\n",
            "@NB552046:38:HLHM2BGXF:1:11101:24326:5795 2:N:0:0\n",
            "CAAAAAAC\n",
            "+\n",
            "AAAAAEEE"
          ],
          "name": "stdout"
        }
      ]
    },
    {
      "cell_type": "code",
      "metadata": {
        "id": "69aSrtUqt9hn",
        "colab_type": "code",
        "colab": {}
      },
      "source": [
        "!mkdir out"
      ],
      "execution_count": 0,
      "outputs": []
    },
    {
      "cell_type": "code",
      "metadata": {
        "id": "80sAqLJnlFU4",
        "colab_type": "code",
        "outputId": "2cb78699-9bc3-4131-909a-f424d82eeddb",
        "colab": {
          "base_uri": "https://localhost:8080/",
          "height": 185
        }
      },
      "source": [
        "!bcltools convert -x miseq -o ./out/ -n 1 bcltools/examples/swabseq_i1.fastq.gz bcltools/examples/swabseq_r1.fastq.gz bcltools/examples/swabseq_r2.fastq.gz"
      ],
      "execution_count": 7,
      "outputs": [
        {
          "output_type": "stream",
          "text": [
            "[2020-06-15 18:09:40,962]    INFO Number of FASTQ Files 3\n",
            "[2020-06-15 18:09:40,962]    INFO Counting number of cycles\n",
            "[2020-06-15 18:09:40,963]    INFO Counting number of reads\n",
            "[2020-06-15 18:09:40,963]    INFO Initializing BCL Folder structure\n",
            "[2020-06-15 18:09:40,963]    INFO Initializing LOCS and BCL files\n",
            "[2020-06-15 18:09:41,021]    INFO Writing records to LOCS and BCL files\n",
            "28\n",
            "[1, 1, 1, 0, 0, 0, 0, 0, 0, 0, 0, 0, 0, 0, 0, 0, 0, 0, 0, 0, 0, 0, 0, 0, 0, 0, 0, 0]\n",
            "[2020-06-15 18:09:41,022]    INFO Wrote 0 reads\n",
            "[2020-06-15 18:09:41,025]    INFO Wrote 3 reads\n"
          ],
          "name": "stdout"
        }
      ]
    },
    {
      "cell_type": "code",
      "metadata": {
        "id": "iQqzCia3l_nl",
        "colab_type": "code",
        "outputId": "05dfb480-fa73-42bc-c066-5a92d296ad66",
        "colab": {
          "base_uri": "https://localhost:8080/",
          "height": 185
        }
      },
      "source": [
        "!tree -d out/Data | head"
      ],
      "execution_count": 8,
      "outputs": [
        {
          "output_type": "stream",
          "text": [
            "out/Data\n",
            "└── Intensities\n",
            "    ├── BaseCalls\n",
            "    │   └── L001\n",
            "    │       ├── C10.1\n",
            "    │       ├── C1.1\n",
            "    │       ├── C11.1\n",
            "    │       ├── C12.1\n",
            "    │       ├── C13.1\n",
            "    │       ├── C14.1\n"
          ],
          "name": "stdout"
        }
      ]
    },
    {
      "cell_type": "code",
      "metadata": {
        "id": "F8eRcQAlmL1v",
        "colab_type": "code",
        "outputId": "10d81152-0541-49f3-88db-5f1921a6a656",
        "colab": {
          "base_uri": "https://localhost:8080/",
          "height": 34
        }
      },
      "source": [
        "!bcltools read -x miseq out/Data/Intensities/BaseCalls/L001/C11.1/s_1_1101.bcl"
      ],
      "execution_count": 9,
      "outputs": [
        {
          "output_type": "stream",
          "text": [
            "G\tA\n"
          ],
          "name": "stdout"
        }
      ]
    },
    {
      "cell_type": "code",
      "metadata": {
        "id": "h2EqmTPsuJ2s",
        "colab_type": "code",
        "colab": {}
      },
      "source": [
        "!cd out/Data/Intensities/BaseCalls/L001 && for d in C*; do gzip $d/*; done"
      ],
      "execution_count": 0,
      "outputs": []
    },
    {
      "cell_type": "markdown",
      "metadata": {
        "id": "Mx6CwYRlrufm",
        "colab_type": "text"
      },
      "source": [
        "# Find out where bcl2fastq was installed"
      ]
    },
    {
      "cell_type": "code",
      "metadata": {
        "id": "ak7WnYpvocwF",
        "colab_type": "code",
        "outputId": "f93aed55-11bd-4d62-a01d-07a55805435c",
        "colab": {
          "base_uri": "https://localhost:8080/",
          "height": 67
        }
      },
      "source": [
        "!dpkg -L bcl2fastq2 | grep bin"
      ],
      "execution_count": 11,
      "outputs": [
        {
          "output_type": "stream",
          "text": [
            "/usr/local/bin\n",
            "/usr/local/bin/bcl2fastq\n",
            "/usr/local/bin/test\n"
          ],
          "name": "stdout"
        }
      ]
    },
    {
      "cell_type": "code",
      "metadata": {
        "id": "8yDXx_RZrygv",
        "colab_type": "code",
        "colab": {}
      },
      "source": [
        "!cp /content/BLCSBGLKP_2020/data/RunInfo.xml out/"
      ],
      "execution_count": 0,
      "outputs": []
    },
    {
      "cell_type": "code",
      "metadata": {
        "id": "Fz74ctSaoezB",
        "colab_type": "code",
        "outputId": "bef09e9d-44ce-4dce-e736-53eef5f6a0fc",
        "colab": {
          "base_uri": "https://localhost:8080/",
          "height": 1000
        }
      },
      "source": [
        "!cd out/ && /usr/local/bin/bcl2fastq --create-fastq-for-index-reads"
      ],
      "execution_count": 24,
      "outputs": [
        {
          "output_type": "stream",
          "text": [
            "BCL to FASTQ file converter\n",
            "bcl2fastq v2.20.0.422\n",
            "Copyright (c) 2007-2017 Illumina, Inc.\n",
            "\n",
            "2020-06-15 18:10:25 [25cb900] Command-line invocation: /usr/local/bin/bcl2fastq --create-fastq-for-index-reads \n",
            "2020-06-15 18:10:25 [25cb900] INFO: Minimum log level: INFO\n",
            "2020-06-15 18:10:25 [25cb900] INFO: Sample sheet: '/content/out/SampleSheet.csv'\n",
            "2020-06-15 18:10:25 [25cb900] INFO: Sample sheet: NOT FOUND\n",
            "2020-06-15 18:10:25 [25cb900] INFO: Runfolder path: '/content/out'\n",
            "2020-06-15 18:10:25 [25cb900] INFO: Input path: '/content/out/Data/Intensities/BaseCalls/'\n",
            "2020-06-15 18:10:25 [25cb900] INFO: Intensities path: '/content/out/Data/Intensities/'\n",
            "2020-06-15 18:10:25 [25cb900] INFO: Output path: '/content/out/Data/Intensities/BaseCalls/'\n",
            "2020-06-15 18:10:25 [25cb900] INFO: InterOp path: '/content/out/InterOp/'\n",
            "2020-06-15 18:10:25 [25cb900] INFO: Stats path: '/content/out/Data/Intensities/BaseCalls/Stats/'\n",
            "2020-06-15 18:10:25 [25cb900] INFO: Reports path: '/content/out/Data/Intensities/BaseCalls/Reports/'\n",
            "2020-06-15 18:10:25 [25cb900] INFO: Detected CPUs: 2\n",
            "2020-06-15 18:10:25 [25cb900] INFO: Loading threads: 4\n",
            "2020-06-15 18:10:25 [25cb900] INFO: Processing threads: 2\n",
            "2020-06-15 18:10:25 [25cb900] INFO: Writing threads: 4\n",
            "2020-06-15 18:10:25 [25cb900] INFO: Allowed barcode mismatches: 1 \n",
            "2020-06-15 18:10:25 [25cb900] INFO: Tiles: <ALL>\n",
            "2020-06-15 18:10:25 [25cb900] INFO: Minimum trimmed read length: 35\n",
            "2020-06-15 18:10:25 [25cb900] INFO: Use bases masks: <NONE>\n",
            "2020-06-15 18:10:25 [25cb900] INFO: Mask short adapter reads: 22\n",
            "2020-06-15 18:10:25 [25cb900] INFO: Adapter stringency: 0.9\n",
            "2020-06-15 18:10:25 [25cb900] INFO: Adapter trimming method: Allow matches with indels\n",
            "2020-06-15 18:10:25 [25cb900] INFO: Ignore missing BCLs: NO\n",
            "2020-06-15 18:10:25 [25cb900] INFO: Ignore missing filters: NO\n",
            "2020-06-15 18:10:25 [25cb900] INFO: Ignore missing positions: NO\n",
            "2020-06-15 18:10:25 [25cb900] INFO: Ignore missing controls: NO\n",
            "2020-06-15 18:10:25 [25cb900] INFO: Include non-PF clusters: NO\n",
            "2020-06-15 18:10:25 [25cb900] INFO: Create FASTQs for index reads: YES\n",
            "2020-06-15 18:10:25 [25cb900] INFO: Use bgzf compression for FASTQ files: YES\n",
            "2020-06-15 18:10:25 [25cb900] INFO: FASTQ compression level: 4\n",
            "2020-06-15 18:10:25 [25cb900] INFO: RunInfo.xml: '\"/content/out/RunInfo.xml\"'\n",
            "2020-06-15 18:10:25 [25cb900] INFO: Lane: 1\n",
            "2020-06-15 18:10:25 [25cb900] INFO: Mask: \n",
            "2020-06-15 18:10:25 [25cb900] INFO:   Sample: #0 'unknown' 'Undetermined' [default]\n",
            "2020-06-15 18:10:25 [25cb900] INFO: Read: 1 index read\n",
            "2020-06-15 18:10:25 [25cb900] INFO:   Cycles: 1,2,3,4,5,6,7,8\n",
            "2020-06-15 18:10:25 [25cb900] INFO: Read: 1 data read\n",
            "2020-06-15 18:10:25 [25cb900] INFO:   Cycles: 9,10,11,12,13,14,15,16,17,18,19,20,21,22,23,24,25,26,27,28,29,30,31,32,33,34\n",
            "2020-06-15 18:10:25 [25cb900] INFO: Read: 2 index read\n",
            "2020-06-15 18:10:25 [25cb900] INFO:   Cycles: 35,36,37,38,39,40,41,42\n",
            "2020-06-15 18:10:25 [25cb900] WARNING: Option: '--minimum-trimmed-read-length' with value: 35 is being overwritten by the shortest non-index read length: 26\n",
            "2020-06-15 18:10:25 [25cb900] INFO: Lane: 1\n",
            "2020-06-15 18:10:25 [25cb900] INFO:   Tile: 1101 (index: 0, skipped tiles: 0)\n",
            "2020-06-15 18:10:25 [25cb900] INFO:   Tile: 1102 (index: 1, skipped tiles: 0)\n",
            "2020-06-15 18:10:25 [25cb900] INFO:   Tile: 1103 (index: 2, skipped tiles: 0)\n",
            "2020-06-15 18:10:25 [25cb900] INFO: Created FASTQ file '\"/content/out/Data/Intensities/BaseCalls/Undetermined_S0_L001_I1_001.fastq.gz\"\n",
            "2020-06-15 18:10:25 [25cb900] INFO: Created FASTQ file '\"/content/out/Data/Intensities/BaseCalls/Undetermined_S0_L001_R1_001.fastq.gz\"\n",
            "2020-06-15 18:10:25 [25cb900] INFO: Created FASTQ file '\"/content/out/Data/Intensities/BaseCalls/Undetermined_S0_L001_I2_001.fastq.gz\"\n",
            "2020-06-15 18:10:25 [7f51dc8b2700] INFO: Opened BCL file '/content/out/Data/Intensities/BaseCalls/L001/C1.1/s_1_1101.bcl.gz' with 1 clusters\n",
            "2020-06-15 18:10:25 [7f51dc8b2700] INFO: Opened BCL file '/content/out/Data/Intensities/BaseCalls/L001/C3.1/s_1_1101.bcl.gz' with 1 clusters\n",
            "2020-06-15 18:10:25 [7f51dc8b2700] INFO: Opened BCL file '/content/out/Data/Intensities/BaseCalls/L001/C4.1/s_1_1101.bcl.gz' with 1 clusters\n",
            "2020-06-15 18:10:25 [7f51dc8b2700] INFO: Opened BCL file '/content/out/Data/Intensities/BaseCalls/L001/C5.1/s_1_1101.bcl.gz' with 1 clusters\n",
            "2020-06-15 18:10:25 [7f51dc8b2700] INFO: Opened BCL file '/content/out/Data/Intensities/BaseCalls/L001/C6.1/s_1_1101.bcl.gz' with 1 clusters\n",
            "2020-06-15 18:10:25 [7f51dc8b2700] INFO: Opened BCL file '/content/out/Data/Intensities/BaseCalls/L001/C7.1/s_1_1101.bcl.gz' with 1 clusters\n",
            "2020-06-15 18:10:25 [7f51dc8b2700] INFO: Opened BCL file '/content/out/Data/Intensities/BaseCalls/L001/C8.1/s_1_1101.bcl.gz' with 1 clusters\n",
            "2020-06-15 18:10:25 [7f51dc8b2700] INFO: Opened BCL file '/content/out/Data/Intensities/BaseCalls/L001/C9.1/s_1_1101.bcl.gz' with 1 clusters\n",
            "2020-06-15 18:10:25 [7f51dc0b1700] INFO: Opened BCL file '/content/out/Data/Intensities/BaseCalls/L001/C2.1/s_1_1101.bcl.gz' with 1 clusters\n",
            "2020-06-15 18:10:25 [7f51dc8b2700] INFO: Opened BCL file '/content/out/Data/Intensities/BaseCalls/L001/C10.1/s_1_1101.bcl.gz' with 1 clusters\n",
            "2020-06-15 18:10:25 [7f51dc0b1700] INFO: Opened BCL file '/content/out/Data/Intensities/BaseCalls/L001/C11.1/s_1_1101.bcl.gz' with 1 clusters\n",
            "2020-06-15 18:10:25 [7f51dc8b2700] INFO: Opened BCL file '/content/out/Data/Intensities/BaseCalls/L001/C12.1/s_1_1101.bcl.gz' with 1 clusters\n",
            "2020-06-15 18:10:25 [7f51dc0b1700] INFO: Opened BCL file '/content/out/Data/Intensities/BaseCalls/L001/C13.1/s_1_1101.bcl.gz' with 1 clusters\n",
            "2020-06-15 18:10:25 [7f51dc8b2700] INFO: Opened BCL file '/content/out/Data/Intensities/BaseCalls/L001/C14.1/s_1_1101.bcl.gz' with 1 clusters\n",
            "2020-06-15 18:10:25 [7f51dc0b1700] INFO: Opened BCL file '/content/out/Data/Intensities/BaseCalls/L001/C15.1/s_1_1101.bcl.gz' with 1 clusters\n",
            "2020-06-15 18:10:25 [7f51dc8b2700] INFO: Opened BCL file '/content/out/Data/Intensities/BaseCalls/L001/C16.1/s_1_1101.bcl.gz' with 1 clusters\n",
            "2020-06-15 18:10:25 [7f51dc0b1700] INFO: Opened BCL file '/content/out/Data/Intensities/BaseCalls/L001/C17.1/s_1_1101.bcl.gz' with 1 clusters\n",
            "2020-06-15 18:10:25 [7f51dc8b2700] INFO: Opened BCL file '/content/out/Data/Intensities/BaseCalls/L001/C18.1/s_1_1101.bcl.gz' with 1 clusters\n",
            "2020-06-15 18:10:25 [7f51dc0b1700] INFO: Opened BCL file '/content/out/Data/Intensities/BaseCalls/L001/C19.1/s_1_1101.bcl.gz' with 1 clusters\n",
            "2020-06-15 18:10:25 [7f51dc8b2700] INFO: Opened BCL file '/content/out/Data/Intensities/BaseCalls/L001/C20.1/s_1_1101.bcl.gz' with 1 clusters\n",
            "2020-06-15 18:10:25 [7f51dc0b1700] INFO: Opened BCL file '/content/out/Data/Intensities/BaseCalls/L001/C21.1/s_1_1101.bcl.gz' with 1 clusters\n",
            "2020-06-15 18:10:25 [7f51dc8b2700] INFO: Opened BCL file '/content/out/Data/Intensities/BaseCalls/L001/C22.1/s_1_1101.bcl.gz' with 1 clusters\n",
            "2020-06-15 18:10:25 [7f51dc0b1700] INFO: Opened BCL file '/content/out/Data/Intensities/BaseCalls/L001/C23.1/s_1_1101.bcl.gz' with 1 clusters\n",
            "2020-06-15 18:10:25 [7f51dc8b2700] INFO: Opened BCL file '/content/out/Data/Intensities/BaseCalls/L001/C24.1/s_1_1101.bcl.gz' with 1 clusters\n",
            "2020-06-15 18:10:25 [7f51dc0b1700] INFO: Opened BCL file '/content/out/Data/Intensities/BaseCalls/L001/C25.1/s_1_1101.bcl.gz' with 1 clusters\n",
            "2020-06-15 18:10:25 [7f51dc8b2700] INFO: Opened BCL file '/content/out/Data/Intensities/BaseCalls/L001/C26.1/s_1_1101.bcl.gz' with 1 clusters\n",
            "2020-06-15 18:10:25 [7f51dc0b1700] INFO: Opened BCL file '/content/out/Data/Intensities/BaseCalls/L001/C27.1/s_1_1101.bcl.gz' with 1 clusters\n",
            "2020-06-15 18:10:25 [7f51dc8b2700] INFO: Opened BCL file '/content/out/Data/Intensities/BaseCalls/L001/C28.1/s_1_1101.bcl.gz' with 1 clusters\n",
            "2020-06-15 18:10:25 [7f51dc0b1700] INFO: Opened BCL file '/content/out/Data/Intensities/BaseCalls/L001/C29.1/s_1_1101.bcl.gz' with 1 clusters\n",
            "2020-06-15 18:10:25 [7f51dc8b2700] INFO: Opened BCL file '/content/out/Data/Intensities/BaseCalls/L001/C30.1/s_1_1101.bcl.gz' with 1 clusters\n",
            "2020-06-15 18:10:25 [7f51dc0b1700] INFO: Opened BCL file '/content/out/Data/Intensities/BaseCalls/L001/C31.1/s_1_1101.bcl.gz' with 1 clusters\n",
            "2020-06-15 18:10:25 [7f51dc8b2700] INFO: Opened BCL file '/content/out/Data/Intensities/BaseCalls/L001/C32.1/s_1_1101.bcl.gz' with 1 clusters\n",
            "2020-06-15 18:10:25 [7f51dc0b1700] INFO: Opened BCL file '/content/out/Data/Intensities/BaseCalls/L001/C33.1/s_1_1101.bcl.gz' with 1 clusters\n",
            "2020-06-15 18:10:25 [7f51dc8b2700] INFO: Opened BCL file '/content/out/Data/Intensities/BaseCalls/L001/C34.1/s_1_1101.bcl.gz' with 1 clusters\n",
            "2020-06-15 18:10:25 [7f51dc0b1700] INFO: Opened BCL file '/content/out/Data/Intensities/BaseCalls/L001/C35.1/s_1_1101.bcl.gz' with 1 clusters\n",
            "2020-06-15 18:10:25 [7f51dc8b2700] INFO: Opened BCL file '/content/out/Data/Intensities/BaseCalls/L001/C36.1/s_1_1101.bcl.gz' with 1 clusters\n",
            "2020-06-15 18:10:25 [7f51dc0b1700] INFO: Opened BCL file '/content/out/Data/Intensities/BaseCalls/L001/C37.1/s_1_1101.bcl.gz' with 1 clusters\n",
            "2020-06-15 18:10:25 [7f51dc8b2700] INFO: Opened BCL file '/content/out/Data/Intensities/BaseCalls/L001/C38.1/s_1_1101.bcl.gz' with 1 clusters\n",
            "2020-06-15 18:10:25 [7f51dc0b1700] INFO: Opened BCL file '/content/out/Data/Intensities/BaseCalls/L001/C39.1/s_1_1101.bcl.gz' with 1 clusters\n",
            "2020-06-15 18:10:25 [7f51dc8b2700] INFO: Opened BCL file '/content/out/Data/Intensities/BaseCalls/L001/C40.1/s_1_1101.bcl.gz' with 1 clusters\n",
            "2020-06-15 18:10:25 [7f51dc0b1700] INFO: Opened BCL file '/content/out/Data/Intensities/BaseCalls/L001/C41.1/s_1_1101.bcl.gz' with 1 clusters\n",
            "2020-06-15 18:10:25 [7f51dc8b2700] INFO: Opened BCL file '/content/out/Data/Intensities/BaseCalls/L001/C42.1/s_1_1101.bcl.gz' with 1 clusters\n",
            "2020-06-15 18:10:25 [7f51dc8b2700] INFO: Opened BCL file '/content/out/Data/Intensities/BaseCalls/L001/C1.1/s_1_1102.bcl.gz' with 1 clusters\n",
            "2020-06-15 18:10:25 [7f51dc8b2700] INFO: Opened BCL file '/content/out/Data/Intensities/BaseCalls/L001/C3.1/s_1_1102.bcl.gz' with 1 clusters\n",
            "2020-06-15 18:10:25 [7f51dc0b1700] INFO: Opened BCL file '/content/out/Data/Intensities/BaseCalls/L001/C2.1/s_1_1102.bcl.gz' with 1 clusters\n",
            "2020-06-15 18:10:25 [7f51dc8b2700] INFO: Opened BCL file '/content/out/Data/Intensities/BaseCalls/L001/C4.1/s_1_1102.bcl.gz' with 1 clusters\n",
            "2020-06-15 18:10:25 [7f51dc0b1700] INFO: Opened BCL file '/content/out/Data/Intensities/BaseCalls/L001/C5.1/s_1_1102.bcl.gz' with 1 clusters\n",
            "2020-06-15 18:10:25 [7f51dc8b2700] INFO: Opened BCL file '/content/out/Data/Intensities/BaseCalls/L001/C6.1/s_1_1102.bcl.gz' with 1 clusters\n",
            "2020-06-15 18:10:25 [7f51dc0b1700] INFO: Opened BCL file '/content/out/Data/Intensities/BaseCalls/L001/C7.1/s_1_1102.bcl.gz' with 1 clusters\n",
            "2020-06-15 18:10:25 [7f51dc8b2700] INFO: Opened BCL file '/content/out/Data/Intensities/BaseCalls/L001/C8.1/s_1_1102.bcl.gz' with 1 clusters\n",
            "2020-06-15 18:10:25 [7f51dc0b1700] INFO: Opened BCL file '/content/out/Data/Intensities/BaseCalls/L001/C9.1/s_1_1102.bcl.gz' with 1 clusters\n",
            "2020-06-15 18:10:25 [7f51dc8b2700] INFO: Opened BCL file '/content/out/Data/Intensities/BaseCalls/L001/C10.1/s_1_1102.bcl.gz' with 1 clusters\n",
            "2020-06-15 18:10:25 [7f51dc0b1700] INFO: Opened BCL file '/content/out/Data/Intensities/BaseCalls/L001/C11.1/s_1_1102.bcl.gz' with 1 clusters\n",
            "2020-06-15 18:10:25 [7f51dc8b2700] INFO: Opened BCL file '/content/out/Data/Intensities/BaseCalls/L001/C12.1/s_1_1102.bcl.gz' with 1 clusters\n",
            "2020-06-15 18:10:25 [7f51dc0b1700] INFO: Opened BCL file '/content/out/Data/Intensities/BaseCalls/L001/C13.1/s_1_1102.bcl.gz' with 1 clusters\n",
            "2020-06-15 18:10:25 [7f51dc8b2700] INFO: Opened BCL file '/content/out/Data/Intensities/BaseCalls/L001/C14.1/s_1_1102.bcl.gz' with 1 clusters\n",
            "2020-06-15 18:10:25 [7f51dc0b1700] INFO: Opened BCL file '/content/out/Data/Intensities/BaseCalls/L001/C15.1/s_1_1102.bcl.gz' with 1 clusters\n",
            "2020-06-15 18:10:25 [7f51dc8b2700] INFO: Opened BCL file '/content/out/Data/Intensities/BaseCalls/L001/C16.1/s_1_1102.bcl.gz' with 1 clusters\n",
            "2020-06-15 18:10:25 [7f51dc0b1700] INFO: Opened BCL file '/content/out/Data/Intensities/BaseCalls/L001/C17.1/s_1_1102.bcl.gz' with 1 clusters\n",
            "2020-06-15 18:10:25 [7f51dc8b2700] INFO: Opened BCL file '/content/out/Data/Intensities/BaseCalls/L001/C18.1/s_1_1102.bcl.gz' with 1 clusters\n",
            "2020-06-15 18:10:25 [7f51dc0b1700] INFO: Opened BCL file '/content/out/Data/Intensities/BaseCalls/L001/C19.1/s_1_1102.bcl.gz' with 1 clusters\n",
            "2020-06-15 18:10:25 [7f51dc8b2700] INFO: Opened BCL file '/content/out/Data/Intensities/BaseCalls/L001/C20.1/s_1_1102.bcl.gz' with 1 clusters\n",
            "2020-06-15 18:10:25 [7f51dc0b1700] INFO: Opened BCL file '/content/out/Data/Intensities/BaseCalls/L001/C21.1/s_1_1102.bcl.gz' with 1 clusters\n",
            "2020-06-15 18:10:25 [7f51dc8b2700] INFO: Opened BCL file '/content/out/Data/Intensities/BaseCalls/L001/C22.1/s_1_1102.bcl.gz' with 1 clusters\n",
            "2020-06-15 18:10:25 [7f51dc0b1700] INFO: Opened BCL file '/content/out/Data/Intensities/BaseCalls/L001/C23.1/s_1_1102.bcl.gz' with 1 clusters\n",
            "2020-06-15 18:10:25 [7f51dc8b2700] INFO: Opened BCL file '/content/out/Data/Intensities/BaseCalls/L001/C24.1/s_1_1102.bcl.gz' with 1 clusters\n",
            "2020-06-15 18:10:25 [7f51dc0b1700] INFO: Opened BCL file '/content/out/Data/Intensities/BaseCalls/L001/C25.1/s_1_1102.bcl.gz' with 1 clusters\n",
            "2020-06-15 18:10:25 [7f51dc8b2700] INFO: Opened BCL file '/content/out/Data/Intensities/BaseCalls/L001/C26.1/s_1_1102.bcl.gz' with 1 clusters\n",
            "2020-06-15 18:10:25 [7f51dc0b1700] INFO: Opened BCL file '/content/out/Data/Intensities/BaseCalls/L001/C27.1/s_1_1102.bcl.gz' with 1 clusters\n",
            "2020-06-15 18:10:25 [7f51dc8b2700] INFO: Opened BCL file '/content/out/Data/Intensities/BaseCalls/L001/C28.1/s_1_1102.bcl.gz' with 1 clusters\n",
            "2020-06-15 18:10:25 [7f51dc0b1700] INFO: Opened BCL file '/content/out/Data/Intensities/BaseCalls/L001/C29.1/s_1_1102.bcl.gz' with 1 clusters\n",
            "2020-06-15 18:10:25 [7f51dc8b2700] INFO: Opened BCL file '/content/out/Data/Intensities/BaseCalls/L001/C30.1/s_1_1102.bcl.gz' with 1 clusters\n",
            "2020-06-15 18:10:25 [7f51dc0b1700] INFO: Opened BCL file '/content/out/Data/Intensities/BaseCalls/L001/C31.1/s_1_1102.bcl.gz' with 1 clusters\n",
            "2020-06-15 18:10:25 [7f51dc8b2700] INFO: Opened BCL file '/content/out/Data/Intensities/BaseCalls/L001/C32.1/s_1_1102.bcl.gz' with 1 clusters\n",
            "2020-06-15 18:10:25 [7f51dc0b1700] INFO: Opened BCL file '/content/out/Data/Intensities/BaseCalls/L001/C33.1/s_1_1102.bcl.gz' with 1 clusters\n",
            "2020-06-15 18:10:25 [7f51dc8b2700] INFO: Opened BCL file '/content/out/Data/Intensities/BaseCalls/L001/C34.1/s_1_1102.bcl.gz' with 1 clusters\n",
            "2020-06-15 18:10:25 [7f51dc0b1700] INFO: Opened BCL file '/content/out/Data/Intensities/BaseCalls/L001/C35.1/s_1_1102.bcl.gz' with 1 clusters\n",
            "2020-06-15 18:10:25 [7f51dc8b2700] INFO: Opened BCL file '/content/out/Data/Intensities/BaseCalls/L001/C36.1/s_1_1102.bcl.gz' with 1 clusters\n",
            "2020-06-15 18:10:25 [7f51dc0b1700] INFO: Opened BCL file '/content/out/Data/Intensities/BaseCalls/L001/C37.1/s_1_1102.bcl.gz' with 1 clusters\n",
            "2020-06-15 18:10:25 [7f51dc8b2700] INFO: Opened BCL file '/content/out/Data/Intensities/BaseCalls/L001/C38.1/s_1_1102.bcl.gz' with 1 clusters\n",
            "2020-06-15 18:10:25 [7f51dc0b1700] INFO: Opened BCL file '/content/out/Data/Intensities/BaseCalls/L001/C39.1/s_1_1102.bcl.gz' with 1 clusters\n",
            "2020-06-15 18:10:25 [7f51dc8b2700] INFO: Opened BCL file '/content/out/Data/Intensities/BaseCalls/L001/C40.1/s_1_1102.bcl.gz' with 1 clusters\n",
            "2020-06-15 18:10:25 [7f51dc0b1700] INFO: Opened BCL file '/content/out/Data/Intensities/BaseCalls/L001/C41.1/s_1_1102.bcl.gz' with 1 clusters\n",
            "2020-06-15 18:10:25 [7f51dc8b2700] INFO: Opened BCL file '/content/out/Data/Intensities/BaseCalls/L001/C42.1/s_1_1102.bcl.gz' with 1 clusters\n",
            "2020-06-15 18:10:25 [7f51dc0b1700] INFO: Opened BCL file '/content/out/Data/Intensities/BaseCalls/L001/C1.1/s_1_1103.bcl.gz' with 1 clusters\n",
            "2020-06-15 18:10:25 [7f51dc0b1700] INFO: Opened BCL file '/content/out/Data/Intensities/BaseCalls/L001/C2.1/s_1_1103.bcl.gz' with 1 clusters\n",
            "2020-06-15 18:10:25 [7f51dc0b1700] INFO: Opened BCL file '/content/out/Data/Intensities/BaseCalls/L001/C3.1/s_1_1103.bcl.gz' with 1 clusters\n",
            "2020-06-15 18:10:25 [7f51dc0b1700] INFO: Opened BCL file '/content/out/Data/Intensities/BaseCalls/L001/C4.1/s_1_1103.bcl.gz' with 1 clusters\n",
            "2020-06-15 18:10:25 [7f51dc0b1700] INFO: Opened BCL file '/content/out/Data/Intensities/BaseCalls/L001/C5.1/s_1_1103.bcl.gz' with 1 clusters\n",
            "2020-06-15 18:10:25 [7f51dc0b1700] INFO: Opened BCL file '/content/out/Data/Intensities/BaseCalls/L001/C6.1/s_1_1103.bcl.gz' with 1 clusters\n",
            "2020-06-15 18:10:25 [7f51dc0b1700] INFO: Opened BCL file '/content/out/Data/Intensities/BaseCalls/L001/C7.1/s_1_1103.bcl.gz' with 1 clusters\n",
            "2020-06-15 18:10:25 [7f51dc0b1700] INFO: Opened BCL file '/content/out/Data/Intensities/BaseCalls/L001/C8.1/s_1_1103.bcl.gz' with 1 clusters\n",
            "2020-06-15 18:10:25 [7f51dc0b1700] INFO: Opened BCL file '/content/out/Data/Intensities/BaseCalls/L001/C9.1/s_1_1103.bcl.gz' with 1 clusters\n",
            "2020-06-15 18:10:25 [7f51dc0b1700] INFO: Opened BCL file '/content/out/Data/Intensities/BaseCalls/L001/C10.1/s_1_1103.bcl.gz' with 1 clusters\n",
            "2020-06-15 18:10:25 [7f51dc0b1700] INFO: Opened BCL file '/content/out/Data/Intensities/BaseCalls/L001/C11.1/s_1_1103.bcl.gz' with 1 clusters\n",
            "2020-06-15 18:10:25 [7f51dc0b1700] INFO: Opened BCL file '/content/out/Data/Intensities/BaseCalls/L001/C12.1/s_1_1103.bcl.gz' with 1 clusters\n",
            "2020-06-15 18:10:25 [7f51dc0b1700] INFO: Opened BCL file '/content/out/Data/Intensities/BaseCalls/L001/C13.1/s_1_1103.bcl.gz' with 1 clusters\n",
            "2020-06-15 18:10:25 [7f51dc0b1700] INFO: Opened BCL file '/content/out/Data/Intensities/BaseCalls/L001/C14.1/s_1_1103.bcl.gz' with 1 clusters\n",
            "2020-06-15 18:10:25 [7f51dc0b1700] INFO: Opened BCL file '/content/out/Data/Intensities/BaseCalls/L001/C15.1/s_1_1103.bcl.gz' with 1 clusters\n",
            "2020-06-15 18:10:25 [7f51dc0b1700] INFO: Opened BCL file '/content/out/Data/Intensities/BaseCalls/L001/C16.1/s_1_1103.bcl.gz' with 1 clusters\n",
            "2020-06-15 18:10:25 [7f51dc0b1700] INFO: Opened BCL file '/content/out/Data/Intensities/BaseCalls/L001/C17.1/s_1_1103.bcl.gz' with 1 clusters\n",
            "2020-06-15 18:10:25 [7f51dc0b1700] INFO: Opened BCL file '/content/out/Data/Intensities/BaseCalls/L001/C18.1/s_1_1103.bcl.gz' with 1 clusters\n",
            "2020-06-15 18:10:25 [7f51dc0b1700] INFO: Opened BCL file '/content/out/Data/Intensities/BaseCalls/L001/C19.1/s_1_1103.bcl.gz' with 1 clusters\n",
            "2020-06-15 18:10:25 [7f51dc0b1700] INFO: Opened BCL file '/content/out/Data/Intensities/BaseCalls/L001/C20.1/s_1_1103.bcl.gz' with 1 clusters\n",
            "2020-06-15 18:10:25 [7f51dc0b1700] INFO: Opened BCL file '/content/out/Data/Intensities/BaseCalls/L001/C21.1/s_1_1103.bcl.gz' with 1 clusters\n",
            "2020-06-15 18:10:25 [7f51dc0b1700] INFO: Opened BCL file '/content/out/Data/Intensities/BaseCalls/L001/C22.1/s_1_1103.bcl.gz' with 1 clusters\n",
            "2020-06-15 18:10:25 [7f51dc0b1700] INFO: Opened BCL file '/content/out/Data/Intensities/BaseCalls/L001/C23.1/s_1_1103.bcl.gz' with 1 clusters\n",
            "2020-06-15 18:10:25 [7f51dc0b1700] INFO: Opened BCL file '/content/out/Data/Intensities/BaseCalls/L001/C24.1/s_1_1103.bcl.gz' with 1 clusters\n",
            "2020-06-15 18:10:25 [7f51dc0b1700] INFO: Opened BCL file '/content/out/Data/Intensities/BaseCalls/L001/C25.1/s_1_1103.bcl.gz' with 1 clusters\n",
            "2020-06-15 18:10:25 [7f51dc0b1700] INFO: Opened BCL file '/content/out/Data/Intensities/BaseCalls/L001/C26.1/s_1_1103.bcl.gz' with 1 clusters\n",
            "2020-06-15 18:10:25 [7f51dc0b1700] INFO: Opened BCL file '/content/out/Data/Intensities/BaseCalls/L001/C27.1/s_1_1103.bcl.gz' with 1 clusters\n",
            "2020-06-15 18:10:25 [7f51dc0b1700] INFO: Opened BCL file '/content/out/Data/Intensities/BaseCalls/L001/C28.1/s_1_1103.bcl.gz' with 1 clusters\n",
            "2020-06-15 18:10:26 [7f51dc0b1700] INFO: Opened BCL file '/content/out/Data/Intensities/BaseCalls/L001/C30.1/s_1_1103.bcl.gz' with 1 clusters\n",
            "2020-06-15 18:10:26 [7f51dc0b1700] INFO: Opened BCL file '/content/out/Data/Intensities/BaseCalls/L001/C31.1/s_1_1103.bcl.gz' with 1 clusters\n",
            "2020-06-15 18:10:26 [7f51dc0b1700] INFO: Opened BCL file '/content/out/Data/Intensities/BaseCalls/L001/C32.1/s_1_1103.bcl.gz' with 1 clusters\n",
            "2020-06-15 18:10:26 [7f51dc0b1700] INFO: Opened BCL file '/content/out/Data/Intensities/BaseCalls/L001/C33.1/s_1_1103.bcl.gz' with 1 clusters\n",
            "2020-06-15 18:10:26 [7f51dc0b1700] INFO: Opened BCL file '/content/out/Data/Intensities/BaseCalls/L001/C34.1/s_1_1103.bcl.gz' with 1 clusters\n",
            "2020-06-15 18:10:26 [7f51dc0b1700] INFO: Opened BCL file '/content/out/Data/Intensities/BaseCalls/L001/C35.1/s_1_1103.bcl.gz' with 1 clusters\n",
            "2020-06-15 18:10:26 [7f51dc0b1700] INFO: Opened BCL file '/content/out/Data/Intensities/BaseCalls/L001/C36.1/s_1_1103.bcl.gz' with 1 clusters\n",
            "2020-06-15 18:10:26 [7f51dc0b1700] INFO: Opened BCL file '/content/out/Data/Intensities/BaseCalls/L001/C37.1/s_1_1103.bcl.gz' with 1 clusters\n",
            "2020-06-15 18:10:26 [7f51dc0b1700] INFO: Opened BCL file '/content/out/Data/Intensities/BaseCalls/L001/C38.1/s_1_1103.bcl.gz' with 1 clusters\n",
            "2020-06-15 18:10:26 [7f51dc0b1700] INFO: Opened BCL file '/content/out/Data/Intensities/BaseCalls/L001/C39.1/s_1_1103.bcl.gz' with 1 clusters\n",
            "2020-06-15 18:10:26 [7f51dc0b1700] INFO: Opened BCL file '/content/out/Data/Intensities/BaseCalls/L001/C40.1/s_1_1103.bcl.gz' with 1 clusters\n",
            "2020-06-15 18:10:26 [7f51dc0b1700] INFO: Opened BCL file '/content/out/Data/Intensities/BaseCalls/L001/C41.1/s_1_1103.bcl.gz' with 1 clusters\n",
            "2020-06-15 18:10:26 [7f51dc0b1700] INFO: Opened BCL file '/content/out/Data/Intensities/BaseCalls/L001/C42.1/s_1_1103.bcl.gz' with 1 clusters\n",
            "2020-06-15 18:10:26 [7f51dc8b2700] INFO: Opened BCL file '/content/out/Data/Intensities/BaseCalls/L001/C29.1/s_1_1103.bcl.gz' with 1 clusters\n",
            "2020-06-15 18:10:26 [25cb900] INFO: Created InterOp file '\"/content/out/InterOp/IndexMetricsOut.bin\"\n",
            "2020-06-15 18:10:26 [25cb900] Processing completed with 0 errors and 1 warnings.\n"
          ],
          "name": "stdout"
        }
      ]
    },
    {
      "cell_type": "markdown",
      "metadata": {
        "id": "IWqTUzRGw8MG",
        "colab_type": "text"
      },
      "source": [
        "# As we can see the FASTQ sequences and quality scores are exactly the same as those we put in"
      ]
    },
    {
      "cell_type": "markdown",
      "metadata": {
        "id": "K4nJDjScLm3z",
        "colab_type": "text"
      },
      "source": [
        "## I1"
      ]
    },
    {
      "cell_type": "code",
      "metadata": {
        "id": "yvNqXebTot5c",
        "colab_type": "code",
        "outputId": "add6a854-f2bc-4546-b792-3301f356d8fe",
        "colab": {
          "base_uri": "https://localhost:8080/",
          "height": 218
        }
      },
      "source": [
        "!zcat /content/out/Data/Intensities/BaseCalls/Undetermined_S0_L001_I1_001.fastq.gz"
      ],
      "execution_count": 25,
      "outputs": [
        {
          "output_type": "stream",
          "text": [
            "@X00000:001:000000000-X00XX:1:1101:263540:58940 1:N:0:0\n",
            "AAAAAAAA\n",
            "+\n",
            "AAAAAEEE\n",
            "@X00000:001:000000000-X00XX:1:1102:107160:58940 1:N:0:0\n",
            "AAAAAAAA\n",
            "+\n",
            "AAAAAEEE\n",
            "@X00000:001:000000000-X00XX:1:1103:244260:58950 1:N:0:0\n",
            "AAAAAAAA\n",
            "+\n",
            "AAAAAEEE\n"
          ],
          "name": "stdout"
        }
      ]
    },
    {
      "cell_type": "code",
      "metadata": {
        "id": "WaFCHLo0scFx",
        "colab_type": "code",
        "outputId": "5cf4370f-67b6-48f9-9063-a782d3c497cf",
        "colab": {
          "base_uri": "https://localhost:8080/",
          "height": 218
        }
      },
      "source": [
        "!zcat bcltools/examples/swabseq_i1.fastq.gz"
      ],
      "execution_count": 26,
      "outputs": [
        {
          "output_type": "stream",
          "text": [
            "@NB552046:38:HLHM2BGXF:1:11101:26254:5794 1:N:0:0\n",
            "AAAAAAAA\n",
            "+\n",
            "AAAAAEEE\n",
            "@NB552046:38:HLHM2BGXF:1:11101:10616:5794 1:N:0:0\n",
            "AAAAAAAA\n",
            "+\n",
            "AAAAAEEE\n",
            "@NB552046:38:HLHM2BGXF:1:11101:24326:5795 1:N:0:0\n",
            "AAAAAAAA\n",
            "+\n",
            "AAAAAEEE"
          ],
          "name": "stdout"
        }
      ]
    },
    {
      "cell_type": "markdown",
      "metadata": {
        "id": "ZFJdFEFpLpSh",
        "colab_type": "text"
      },
      "source": [
        "## I2 (equals R2 in the input)"
      ]
    },
    {
      "cell_type": "code",
      "metadata": {
        "id": "qDQdxvkut6oE",
        "colab_type": "code",
        "outputId": "6e69e993-7547-4fc6-b1e2-040515457566",
        "colab": {
          "base_uri": "https://localhost:8080/",
          "height": 218
        }
      },
      "source": [
        "!zcat /content/out/Data/Intensities/BaseCalls/Undetermined_S0_L001_I2_001.fastq.gz"
      ],
      "execution_count": 27,
      "outputs": [
        {
          "output_type": "stream",
          "text": [
            "@X00000:001:000000000-X00XX:1:1101:263540:58940 2:N:0:0\n",
            "CAAAAACC\n",
            "+\n",
            "AAAAAEEE\n",
            "@X00000:001:000000000-X00XX:1:1102:107160:58940 2:N:0:0\n",
            "AAAAAAAA\n",
            "+\n",
            "AAAAAEEE\n",
            "@X00000:001:000000000-X00XX:1:1103:244260:58950 2:N:0:0\n",
            "CAAAAAAC\n",
            "+\n",
            "AAAAAEEE\n"
          ],
          "name": "stdout"
        }
      ]
    },
    {
      "cell_type": "code",
      "metadata": {
        "id": "hUk_xOFlxLVy",
        "colab_type": "code",
        "outputId": "75cacda0-b868-44f8-b91c-2e38c7618bab",
        "colab": {
          "base_uri": "https://localhost:8080/",
          "height": 218
        }
      },
      "source": [
        "!zcat bcltools/examples/swabseq_r2.fastq.gz"
      ],
      "execution_count": 28,
      "outputs": [
        {
          "output_type": "stream",
          "text": [
            "@NB552046:38:HLHM2BGXF:1:11101:26254:5794 2:N:0:0\n",
            "CAAAAACC\n",
            "+\n",
            "AAAAAEEE\n",
            "@NB552046:38:HLHM2BGXF:1:11101:10616:5794 2:N:0:0\n",
            "AAAAAAAA\n",
            "+\n",
            "AAAAAEEE\n",
            "@NB552046:38:HLHM2BGXF:1:11101:24326:5795 2:N:0:0\n",
            "CAAAAAAC\n",
            "+\n",
            "AAAAAEEE"
          ],
          "name": "stdout"
        }
      ]
    },
    {
      "cell_type": "markdown",
      "metadata": {
        "id": "pRBkw6kaLvoI",
        "colab_type": "text"
      },
      "source": [
        "# and R1"
      ]
    },
    {
      "cell_type": "code",
      "metadata": {
        "id": "d_HPv9FFLZHY",
        "colab_type": "code",
        "colab": {
          "base_uri": "https://localhost:8080/",
          "height": 218
        },
        "outputId": "7a179ed4-9c12-4d49-d81a-8aab2dea85e4"
      },
      "source": [
        "!zcat /content/out/Data/Intensities/BaseCalls/Undetermined_S0_L001_R1_001.fastq.gz"
      ],
      "execution_count": 29,
      "outputs": [
        {
          "output_type": "stream",
          "text": [
            "@X00000:001:000000000-X00XX:1:1101:263540:58940 1:N:0:0\n",
            "TGGCATTTCTACTCTTTCTCAATCCC\n",
            "+\n",
            "AAAAAEEEEEEEEEEEEEEEEEEEEE\n",
            "@X00000:001:000000000-X00XX:1:1102:107160:58940 1:N:0:0\n",
            "GTTTCCGTTGCTGCCATCTCAAAAAC\n",
            "+\n",
            "AAAAAEEEEEEEEEEEEEEEEEEEEE\n",
            "@X00000:001:000000000-X00XX:1:1103:244260:58950 1:N:0:0\n",
            "TGGCGGCGATTGCGTACCCGACGACC\n",
            "+\n",
            "AAAAAEEEEEEEEEEEEEEEEEE/EE\n"
          ],
          "name": "stdout"
        }
      ]
    },
    {
      "cell_type": "code",
      "metadata": {
        "id": "UxBjZqAdLxT_",
        "colab_type": "code",
        "colab": {
          "base_uri": "https://localhost:8080/",
          "height": 218
        },
        "outputId": "8165a408-d71e-4d76-f98d-1003ed3fa7ca"
      },
      "source": [
        "!zcat bcltools/examples/swabseq_r1.fastq.gz"
      ],
      "execution_count": 30,
      "outputs": [
        {
          "output_type": "stream",
          "text": [
            "@NB552046:38:HLHM2BGXF:1:11101:26254:5794 1:N:0:0\n",
            "TGGCATTTCTACTCTTTCTCAATCCC\n",
            "+\n",
            "AAAAAEEEEEEEEEEEEEEEEEEEEE\n",
            "@NB552046:38:HLHM2BGXF:1:11101:10616:5794 1:N:0:0\n",
            "GTTTCCGTTGCTGCCATCTCAAAAAC\n",
            "+\n",
            "AAAAAEEEEEEEEEEEEEEEEEEEEE\n",
            "@NB552046:38:HLHM2BGXF:1:11101:24326:5795 1:N:0:0\n",
            "TGGCGGCGATTGCGTACCCGACGACC\n",
            "+\n",
            "AAAAAEEEEEEEEEEEEEEEEEE/EE"
          ],
          "name": "stdout"
        }
      ]
    },
    {
      "cell_type": "markdown",
      "metadata": {
        "id": "4YnvVtONxrYu",
        "colab_type": "text"
      },
      "source": [
        "# Suppose we use the samplesheet"
      ]
    },
    {
      "cell_type": "code",
      "metadata": {
        "id": "1zBbTQ6Txj9h",
        "colab_type": "code",
        "outputId": "a049d654-733a-485f-d7ef-abfc097c249b",
        "colab": {
          "base_uri": "https://localhost:8080/",
          "height": 1000
        }
      },
      "source": [
        "!cd out/ && /usr/local/bin/bcl2fastq --sample-sheet /content/bcltools/examples/swabseq_samplesheet.csv"
      ],
      "execution_count": 31,
      "outputs": [
        {
          "output_type": "stream",
          "text": [
            "BCL to FASTQ file converter\n",
            "bcl2fastq v2.20.0.422\n",
            "Copyright (c) 2007-2017 Illumina, Inc.\n",
            "\n",
            "2020-06-15 18:13:36 [187e900] Command-line invocation: /usr/local/bin/bcl2fastq --sample-sheet /content/bcltools/examples/swabseq_samplesheet.csv \n",
            "2020-06-15 18:13:36 [187e900] INFO: Minimum log level: INFO\n",
            "2020-06-15 18:13:36 [187e900] INFO: Sample sheet: '/content/bcltools/examples/swabseq_samplesheet.csv'\n",
            "2020-06-15 18:13:36 [187e900] INFO: Runfolder path: '/content/out'\n",
            "2020-06-15 18:13:36 [187e900] INFO: Input path: '/content/out/Data/Intensities/BaseCalls/'\n",
            "2020-06-15 18:13:36 [187e900] INFO: Intensities path: '/content/out/Data/Intensities/'\n",
            "2020-06-15 18:13:36 [187e900] INFO: Output path: '/content/out/Data/Intensities/BaseCalls/'\n",
            "2020-06-15 18:13:36 [187e900] INFO: InterOp path: '/content/out/InterOp/'\n",
            "2020-06-15 18:13:36 [187e900] INFO: Stats path: '/content/out/Data/Intensities/BaseCalls/Stats/'\n",
            "2020-06-15 18:13:36 [187e900] INFO: Reports path: '/content/out/Data/Intensities/BaseCalls/Reports/'\n",
            "2020-06-15 18:13:36 [187e900] INFO: Detected CPUs: 2\n",
            "2020-06-15 18:13:36 [187e900] INFO: Loading threads: 4\n",
            "2020-06-15 18:13:36 [187e900] INFO: Processing threads: 2\n",
            "2020-06-15 18:13:36 [187e900] INFO: Writing threads: 4\n",
            "2020-06-15 18:13:36 [187e900] INFO: Allowed barcode mismatches: 1 \n",
            "2020-06-15 18:13:36 [187e900] INFO: Tiles: <ALL>\n",
            "2020-06-15 18:13:36 [187e900] INFO: Minimum trimmed read length: 35\n",
            "2020-06-15 18:13:36 [187e900] INFO: Use bases masks: <NONE>\n",
            "2020-06-15 18:13:36 [187e900] INFO: Mask short adapter reads: 22\n",
            "2020-06-15 18:13:36 [187e900] INFO: Adapter stringency: 0.9\n",
            "2020-06-15 18:13:36 [187e900] INFO: Adapter trimming method: Allow matches with indels\n",
            "2020-06-15 18:13:36 [187e900] INFO: Ignore missing BCLs: NO\n",
            "2020-06-15 18:13:36 [187e900] INFO: Ignore missing filters: NO\n",
            "2020-06-15 18:13:36 [187e900] INFO: Ignore missing positions: NO\n",
            "2020-06-15 18:13:36 [187e900] INFO: Ignore missing controls: NO\n",
            "2020-06-15 18:13:36 [187e900] INFO: Include non-PF clusters: NO\n",
            "2020-06-15 18:13:36 [187e900] INFO: Create FASTQs for index reads: NO\n",
            "2020-06-15 18:13:36 [187e900] INFO: Use bgzf compression for FASTQ files: YES\n",
            "2020-06-15 18:13:36 [187e900] INFO: FASTQ compression level: 4\n",
            "2020-06-15 18:13:36 [187e900] INFO: RunInfo.xml: '\"/content/out/RunInfo.xml\"'\n",
            "2020-06-15 18:13:36 [187e900] INFO: Lane: 1\n",
            "2020-06-15 18:13:36 [187e900] INFO: Mask: \n",
            "2020-06-15 18:13:36 [187e900] INFO:   Sample: #0 'unknown' 'Undetermined' [default]\n",
            "2020-06-15 18:13:36 [187e900] INFO:   Sample: #1 'Plate1-A01' 'Plate1-A01' [default]\n",
            "2020-06-15 18:13:36 [187e900] INFO:     Barcode: 'AAAAAAAA+CAAAAACC'\n",
            "2020-06-15 18:13:36 [187e900] INFO:   Sample: #2 'Plate1-A02' 'Plate1-A02' [default]\n",
            "2020-06-15 18:13:36 [187e900] INFO:     Barcode: 'AAAAAAAA+AAAAAAAA'\n",
            "2020-06-15 18:13:36 [187e900] INFO: Read: 1 index read\n",
            "2020-06-15 18:13:36 [187e900] INFO:   Cycles: 1,2,3,4,5,6,7,8\n",
            "2020-06-15 18:13:36 [187e900] INFO: Read: 1 data read\n",
            "2020-06-15 18:13:36 [187e900] INFO:   Cycles: 9,10,11,12,13,14,15,16,17,18,19,20,21,22,23,24,25,26,27,28,29,30,31,32,33,34\n",
            "2020-06-15 18:13:36 [187e900] INFO: Read: 2 index read\n",
            "2020-06-15 18:13:36 [187e900] INFO:   Cycles: 35,36,37,38,39,40,41,42\n",
            "2020-06-15 18:13:36 [187e900] WARNING: Option: '--minimum-trimmed-read-length' with value: 35 is being overwritten by the shortest non-index read length: 26\n",
            "2020-06-15 18:13:36 [187e900] INFO: Lane: 1\n",
            "2020-06-15 18:13:36 [187e900] INFO:   Tile: 1101 (index: 0, skipped tiles: 0)\n",
            "2020-06-15 18:13:36 [187e900] INFO:   Tile: 1102 (index: 1, skipped tiles: 0)\n",
            "2020-06-15 18:13:36 [187e900] INFO:   Tile: 1103 (index: 2, skipped tiles: 0)\n",
            "2020-06-15 18:13:36 [187e900] INFO: Created FASTQ file '\"/content/out/Data/Intensities/BaseCalls/Undetermined_S0_L001_R1_001.fastq.gz\"\n",
            "2020-06-15 18:13:36 [187e900] INFO: Created FASTQ file '\"/content/out/Data/Intensities/BaseCalls/Plate1-A01_S1_L001_R1_001.fastq.gz\"\n",
            "2020-06-15 18:13:36 [187e900] INFO: Created FASTQ file '\"/content/out/Data/Intensities/BaseCalls/Plate1-A02_S2_L001_R1_001.fastq.gz\"\n",
            "2020-06-15 18:13:36 [7fde3c464700] INFO: Opened BCL file '/content/out/Data/Intensities/BaseCalls/L001/C1.1/s_1_1101.bcl.gz' with 1 clusters\n",
            "2020-06-15 18:13:36 [7fde3c464700] INFO: Opened BCL file '/content/out/Data/Intensities/BaseCalls/L001/C3.1/s_1_1101.bcl.gz' with 1 clusters\n",
            "2020-06-15 18:13:36 [7fde3bc63700] INFO: Opened BCL file '/content/out/Data/Intensities/BaseCalls/L001/C2.1/s_1_1101.bcl.gz' with 1 clusters\n",
            "2020-06-15 18:13:36 [7fde3c464700] INFO: Opened BCL file '/content/out/Data/Intensities/BaseCalls/L001/C4.1/s_1_1101.bcl.gz' with 1 clusters\n",
            "2020-06-15 18:13:36 [7fde3bc63700] INFO: Opened BCL file '/content/out/Data/Intensities/BaseCalls/L001/C5.1/s_1_1101.bcl.gz' with 1 clusters\n",
            "2020-06-15 18:13:36 [7fde3c464700] INFO: Opened BCL file '/content/out/Data/Intensities/BaseCalls/L001/C6.1/s_1_1101.bcl.gz' with 1 clusters\n",
            "2020-06-15 18:13:36 [7fde3bc63700] INFO: Opened BCL file '/content/out/Data/Intensities/BaseCalls/L001/C7.1/s_1_1101.bcl.gz' with 1 clusters\n",
            "2020-06-15 18:13:36 [7fde3c464700] INFO: Opened BCL file '/content/out/Data/Intensities/BaseCalls/L001/C8.1/s_1_1101.bcl.gz' with 1 clusters\n",
            "2020-06-15 18:13:36 [7fde3bc63700] INFO: Opened BCL file '/content/out/Data/Intensities/BaseCalls/L001/C9.1/s_1_1101.bcl.gz' with 1 clusters\n",
            "2020-06-15 18:13:36 [7fde3c464700] INFO: Opened BCL file '/content/out/Data/Intensities/BaseCalls/L001/C10.1/s_1_1101.bcl.gz' with 1 clusters\n",
            "2020-06-15 18:13:36 [7fde3bc63700] INFO: Opened BCL file '/content/out/Data/Intensities/BaseCalls/L001/C11.1/s_1_1101.bcl.gz' with 1 clusters\n",
            "2020-06-15 18:13:36 [7fde3c464700] INFO: Opened BCL file '/content/out/Data/Intensities/BaseCalls/L001/C12.1/s_1_1101.bcl.gz' with 1 clusters\n",
            "2020-06-15 18:13:36 [7fde3bc63700] INFO: Opened BCL file '/content/out/Data/Intensities/BaseCalls/L001/C13.1/s_1_1101.bcl.gz' with 1 clusters\n",
            "2020-06-15 18:13:36 [7fde3c464700] INFO: Opened BCL file '/content/out/Data/Intensities/BaseCalls/L001/C14.1/s_1_1101.bcl.gz' with 1 clusters\n",
            "2020-06-15 18:13:36 [7fde3bc63700] INFO: Opened BCL file '/content/out/Data/Intensities/BaseCalls/L001/C15.1/s_1_1101.bcl.gz' with 1 clusters\n",
            "2020-06-15 18:13:36 [7fde3c464700] INFO: Opened BCL file '/content/out/Data/Intensities/BaseCalls/L001/C16.1/s_1_1101.bcl.gz' with 1 clusters\n",
            "2020-06-15 18:13:36 [7fde3bc63700] INFO: Opened BCL file '/content/out/Data/Intensities/BaseCalls/L001/C17.1/s_1_1101.bcl.gz' with 1 clusters\n",
            "2020-06-15 18:13:36 [7fde3c464700] INFO: Opened BCL file '/content/out/Data/Intensities/BaseCalls/L001/C18.1/s_1_1101.bcl.gz' with 1 clusters\n",
            "2020-06-15 18:13:36 [7fde3bc63700] INFO: Opened BCL file '/content/out/Data/Intensities/BaseCalls/L001/C19.1/s_1_1101.bcl.gz' with 1 clusters\n",
            "2020-06-15 18:13:36 [7fde3c464700] INFO: Opened BCL file '/content/out/Data/Intensities/BaseCalls/L001/C20.1/s_1_1101.bcl.gz' with 1 clusters\n",
            "2020-06-15 18:13:36 [7fde3bc63700] INFO: Opened BCL file '/content/out/Data/Intensities/BaseCalls/L001/C21.1/s_1_1101.bcl.gz' with 1 clusters\n",
            "2020-06-15 18:13:36 [7fde3c464700] INFO: Opened BCL file '/content/out/Data/Intensities/BaseCalls/L001/C22.1/s_1_1101.bcl.gz' with 1 clusters\n",
            "2020-06-15 18:13:36 [7fde3bc63700] INFO: Opened BCL file '/content/out/Data/Intensities/BaseCalls/L001/C23.1/s_1_1101.bcl.gz' with 1 clusters\n",
            "2020-06-15 18:13:36 [7fde3c464700] INFO: Opened BCL file '/content/out/Data/Intensities/BaseCalls/L001/C24.1/s_1_1101.bcl.gz' with 1 clusters\n",
            "2020-06-15 18:13:36 [7fde3bc63700] INFO: Opened BCL file '/content/out/Data/Intensities/BaseCalls/L001/C25.1/s_1_1101.bcl.gz' with 1 clusters\n",
            "2020-06-15 18:13:36 [7fde3c464700] INFO: Opened BCL file '/content/out/Data/Intensities/BaseCalls/L001/C26.1/s_1_1101.bcl.gz' with 1 clusters\n",
            "2020-06-15 18:13:36 [7fde3bc63700] INFO: Opened BCL file '/content/out/Data/Intensities/BaseCalls/L001/C27.1/s_1_1101.bcl.gz' with 1 clusters\n",
            "2020-06-15 18:13:36 [7fde3c464700] INFO: Opened BCL file '/content/out/Data/Intensities/BaseCalls/L001/C28.1/s_1_1101.bcl.gz' with 1 clusters\n",
            "2020-06-15 18:13:36 [7fde3bc63700] INFO: Opened BCL file '/content/out/Data/Intensities/BaseCalls/L001/C29.1/s_1_1101.bcl.gz' with 1 clusters\n",
            "2020-06-15 18:13:36 [7fde3c464700] INFO: Opened BCL file '/content/out/Data/Intensities/BaseCalls/L001/C30.1/s_1_1101.bcl.gz' with 1 clusters\n",
            "2020-06-15 18:13:36 [7fde3bc63700] INFO: Opened BCL file '/content/out/Data/Intensities/BaseCalls/L001/C31.1/s_1_1101.bcl.gz' with 1 clusters\n",
            "2020-06-15 18:13:36 [7fde3c464700] INFO: Opened BCL file '/content/out/Data/Intensities/BaseCalls/L001/C32.1/s_1_1101.bcl.gz' with 1 clusters\n",
            "2020-06-15 18:13:36 [7fde3bc63700] INFO: Opened BCL file '/content/out/Data/Intensities/BaseCalls/L001/C33.1/s_1_1101.bcl.gz' with 1 clusters\n",
            "2020-06-15 18:13:36 [7fde3c464700] INFO: Opened BCL file '/content/out/Data/Intensities/BaseCalls/L001/C34.1/s_1_1101.bcl.gz' with 1 clusters\n",
            "2020-06-15 18:13:36 [7fde3bc63700] INFO: Opened BCL file '/content/out/Data/Intensities/BaseCalls/L001/C35.1/s_1_1101.bcl.gz' with 1 clusters\n",
            "2020-06-15 18:13:36 [7fde3c464700] INFO: Opened BCL file '/content/out/Data/Intensities/BaseCalls/L001/C36.1/s_1_1101.bcl.gz' with 1 clusters\n",
            "2020-06-15 18:13:36 [7fde3bc63700] INFO: Opened BCL file '/content/out/Data/Intensities/BaseCalls/L001/C37.1/s_1_1101.bcl.gz' with 1 clusters\n",
            "2020-06-15 18:13:36 [7fde3c464700] INFO: Opened BCL file '/content/out/Data/Intensities/BaseCalls/L001/C38.1/s_1_1101.bcl.gz' with 1 clusters\n",
            "2020-06-15 18:13:36 [7fde3bc63700] INFO: Opened BCL file '/content/out/Data/Intensities/BaseCalls/L001/C39.1/s_1_1101.bcl.gz' with 1 clusters\n",
            "2020-06-15 18:13:36 [7fde3c464700] INFO: Opened BCL file '/content/out/Data/Intensities/BaseCalls/L001/C40.1/s_1_1101.bcl.gz' with 1 clusters\n",
            "2020-06-15 18:13:36 [7fde3bc63700] INFO: Opened BCL file '/content/out/Data/Intensities/BaseCalls/L001/C41.1/s_1_1101.bcl.gz' with 1 clusters\n",
            "2020-06-15 18:13:36 [7fde3c464700] INFO: Opened BCL file '/content/out/Data/Intensities/BaseCalls/L001/C42.1/s_1_1101.bcl.gz' with 1 clusters\n",
            "2020-06-15 18:13:36 [7fde3c464700] INFO: Opened BCL file '/content/out/Data/Intensities/BaseCalls/L001/C1.1/s_1_1102.bcl.gz' with 1 clusters\n",
            "2020-06-15 18:13:36 [7fde3c464700] INFO: Opened BCL file '/content/out/Data/Intensities/BaseCalls/L001/C2.1/s_1_1102.bcl.gz' with 1 clusters\n",
            "2020-06-15 18:13:36 [7fde3c464700] INFO: Opened BCL file '/content/out/Data/Intensities/BaseCalls/L001/C3.1/s_1_1102.bcl.gz' with 1 clusters\n",
            "2020-06-15 18:13:36 [7fde3c464700] INFO: Opened BCL file '/content/out/Data/Intensities/BaseCalls/L001/C4.1/s_1_1102.bcl.gz' with 1 clusters\n",
            "2020-06-15 18:13:36 [7fde3c464700] INFO: Opened BCL file '/content/out/Data/Intensities/BaseCalls/L001/C5.1/s_1_1102.bcl.gz' with 1 clusters\n",
            "2020-06-15 18:13:36 [7fde3c464700] INFO: Opened BCL file '/content/out/Data/Intensities/BaseCalls/L001/C6.1/s_1_1102.bcl.gz' with 1 clusters\n",
            "2020-06-15 18:13:36 [7fde3c464700] INFO: Opened BCL file '/content/out/Data/Intensities/BaseCalls/L001/C7.1/s_1_1102.bcl.gz' with 1 clusters\n",
            "2020-06-15 18:13:36 [7fde3c464700] INFO: Opened BCL file '/content/out/Data/Intensities/BaseCalls/L001/C8.1/s_1_1102.bcl.gz' with 1 clusters\n",
            "2020-06-15 18:13:36 [7fde3c464700] INFO: Opened BCL file '/content/out/Data/Intensities/BaseCalls/L001/C9.1/s_1_1102.bcl.gz' with 1 clusters\n",
            "2020-06-15 18:13:36 [7fde3c464700] INFO: Opened BCL file '/content/out/Data/Intensities/BaseCalls/L001/C10.1/s_1_1102.bcl.gz' with 1 clusters\n",
            "2020-06-15 18:13:36 [7fde3c464700] INFO: Opened BCL file '/content/out/Data/Intensities/BaseCalls/L001/C11.1/s_1_1102.bcl.gz' with 1 clusters\n",
            "2020-06-15 18:13:36 [7fde3c464700] INFO: Opened BCL file '/content/out/Data/Intensities/BaseCalls/L001/C12.1/s_1_1102.bcl.gz' with 1 clusters\n",
            "2020-06-15 18:13:36 [7fde3c464700] INFO: Opened BCL file '/content/out/Data/Intensities/BaseCalls/L001/C13.1/s_1_1102.bcl.gz' with 1 clusters\n",
            "2020-06-15 18:13:36 [7fde3c464700] INFO: Opened BCL file '/content/out/Data/Intensities/BaseCalls/L001/C14.1/s_1_1102.bcl.gz' with 1 clusters\n",
            "2020-06-15 18:13:36 [7fde3c464700] INFO: Opened BCL file '/content/out/Data/Intensities/BaseCalls/L001/C15.1/s_1_1102.bcl.gz' with 1 clusters\n",
            "2020-06-15 18:13:36 [7fde3c464700] INFO: Opened BCL file '/content/out/Data/Intensities/BaseCalls/L001/C16.1/s_1_1102.bcl.gz' with 1 clusters\n",
            "2020-06-15 18:13:36 [7fde3c464700] INFO: Opened BCL file '/content/out/Data/Intensities/BaseCalls/L001/C17.1/s_1_1102.bcl.gz' with 1 clusters\n",
            "2020-06-15 18:13:36 [7fde3c464700] INFO: Opened BCL file '/content/out/Data/Intensities/BaseCalls/L001/C18.1/s_1_1102.bcl.gz' with 1 clusters\n",
            "2020-06-15 18:13:36 [7fde3c464700] INFO: Opened BCL file '/content/out/Data/Intensities/BaseCalls/L001/C20.1/s_1_1102.bcl.gz' with 1 clusters\n",
            "2020-06-15 18:13:36 [7fde3c464700] INFO: Opened BCL file '/content/out/Data/Intensities/BaseCalls/L001/C21.1/s_1_1102.bcl.gz' with 1 clusters\n",
            "2020-06-15 18:13:36 [7fde3c464700] INFO: Opened BCL file '/content/out/Data/Intensities/BaseCalls/L001/C22.1/s_1_1102.bcl.gz' with 1 clusters\n",
            "2020-06-15 18:13:36 [7fde3c464700] INFO: Opened BCL file '/content/out/Data/Intensities/BaseCalls/L001/C23.1/s_1_1102.bcl.gz' with 1 clusters\n",
            "2020-06-15 18:13:36 [7fde3c464700] INFO: Opened BCL file '/content/out/Data/Intensities/BaseCalls/L001/C24.1/s_1_1102.bcl.gz' with 1 clusters\n",
            "2020-06-15 18:13:36 [7fde3c464700] INFO: Opened BCL file '/content/out/Data/Intensities/BaseCalls/L001/C25.1/s_1_1102.bcl.gz' with 1 clusters\n",
            "2020-06-15 18:13:36 [7fde3c464700] INFO: Opened BCL file '/content/out/Data/Intensities/BaseCalls/L001/C26.1/s_1_1102.bcl.gz' with 1 clusters\n",
            "2020-06-15 18:13:36 [7fde3c464700] INFO: Opened BCL file '/content/out/Data/Intensities/BaseCalls/L001/C27.1/s_1_1102.bcl.gz' with 1 clusters\n",
            "2020-06-15 18:13:36 [7fde3c464700] INFO: Opened BCL file '/content/out/Data/Intensities/BaseCalls/L001/C28.1/s_1_1102.bcl.gz' with 1 clusters\n",
            "2020-06-15 18:13:36 [7fde3c464700] INFO: Opened BCL file '/content/out/Data/Intensities/BaseCalls/L001/C29.1/s_1_1102.bcl.gz' with 1 clusters\n",
            "2020-06-15 18:13:36 [7fde3c464700] INFO: Opened BCL file '/content/out/Data/Intensities/BaseCalls/L001/C30.1/s_1_1102.bcl.gz' with 1 clusters\n",
            "2020-06-15 18:13:36 [7fde3c464700] INFO: Opened BCL file '/content/out/Data/Intensities/BaseCalls/L001/C31.1/s_1_1102.bcl.gz' with 1 clusters\n",
            "2020-06-15 18:13:36 [7fde3c464700] INFO: Opened BCL file '/content/out/Data/Intensities/BaseCalls/L001/C32.1/s_1_1102.bcl.gz' with 1 clusters\n",
            "2020-06-15 18:13:36 [7fde3c464700] INFO: Opened BCL file '/content/out/Data/Intensities/BaseCalls/L001/C33.1/s_1_1102.bcl.gz' with 1 clusters\n",
            "2020-06-15 18:13:36 [7fde3c464700] INFO: Opened BCL file '/content/out/Data/Intensities/BaseCalls/L001/C34.1/s_1_1102.bcl.gz' with 1 clusters\n",
            "2020-06-15 18:13:36 [7fde3c464700] INFO: Opened BCL file '/content/out/Data/Intensities/BaseCalls/L001/C35.1/s_1_1102.bcl.gz' with 1 clusters\n",
            "2020-06-15 18:13:36 [7fde3c464700] INFO: Opened BCL file '/content/out/Data/Intensities/BaseCalls/L001/C36.1/s_1_1102.bcl.gz' with 1 clusters\n",
            "2020-06-15 18:13:36 [7fde3c464700] INFO: Opened BCL file '/content/out/Data/Intensities/BaseCalls/L001/C37.1/s_1_1102.bcl.gz' with 1 clusters\n",
            "2020-06-15 18:13:36 [7fde3c464700] INFO: Opened BCL file '/content/out/Data/Intensities/BaseCalls/L001/C38.1/s_1_1102.bcl.gz' with 1 clusters\n",
            "2020-06-15 18:13:36 [7fde3c464700] INFO: Opened BCL file '/content/out/Data/Intensities/BaseCalls/L001/C39.1/s_1_1102.bcl.gz' with 1 clusters\n",
            "2020-06-15 18:13:36 [7fde3c464700] INFO: Opened BCL file '/content/out/Data/Intensities/BaseCalls/L001/C40.1/s_1_1102.bcl.gz' with 1 clusters\n",
            "2020-06-15 18:13:36 [7fde3c464700] INFO: Opened BCL file '/content/out/Data/Intensities/BaseCalls/L001/C41.1/s_1_1102.bcl.gz' with 1 clusters\n",
            "2020-06-15 18:13:36 [7fde3c464700] INFO: Opened BCL file '/content/out/Data/Intensities/BaseCalls/L001/C42.1/s_1_1102.bcl.gz' with 1 clusters\n",
            "2020-06-15 18:13:36 [7fde3bc63700] INFO: Opened BCL file '/content/out/Data/Intensities/BaseCalls/L001/C19.1/s_1_1102.bcl.gz' with 1 clusters\n",
            "2020-06-15 18:13:36 [7fde3bc63700] INFO: Opened BCL file '/content/out/Data/Intensities/BaseCalls/L001/C1.1/s_1_1103.bcl.gz' with 1 clusters\n",
            "2020-06-15 18:13:36 [7fde3c464700] INFO: Opened BCL file '/content/out/Data/Intensities/BaseCalls/L001/C2.1/s_1_1103.bcl.gz' with 1 clusters\n",
            "2020-06-15 18:13:36 [7fde3bc63700] INFO: Opened BCL file '/content/out/Data/Intensities/BaseCalls/L001/C3.1/s_1_1103.bcl.gz' with 1 clusters\n",
            "2020-06-15 18:13:36 [7fde3c464700] INFO: Opened BCL file '/content/out/Data/Intensities/BaseCalls/L001/C4.1/s_1_1103.bcl.gz' with 1 clusters\n",
            "2020-06-15 18:13:36 [7fde3bc63700] INFO: Opened BCL file '/content/out/Data/Intensities/BaseCalls/L001/C5.1/s_1_1103.bcl.gz' with 1 clusters\n",
            "2020-06-15 18:13:36 [7fde3c464700] INFO: Opened BCL file '/content/out/Data/Intensities/BaseCalls/L001/C6.1/s_1_1103.bcl.gz' with 1 clusters\n",
            "2020-06-15 18:13:36 [7fde3bc63700] INFO: Opened BCL file '/content/out/Data/Intensities/BaseCalls/L001/C7.1/s_1_1103.bcl.gz' with 1 clusters\n",
            "2020-06-15 18:13:36 [7fde3c464700] INFO: Opened BCL file '/content/out/Data/Intensities/BaseCalls/L001/C8.1/s_1_1103.bcl.gz' with 1 clusters\n",
            "2020-06-15 18:13:36 [7fde3bc63700] INFO: Opened BCL file '/content/out/Data/Intensities/BaseCalls/L001/C9.1/s_1_1103.bcl.gz' with 1 clusters\n",
            "2020-06-15 18:13:36 [7fde3c464700] INFO: Opened BCL file '/content/out/Data/Intensities/BaseCalls/L001/C10.1/s_1_1103.bcl.gz' with 1 clusters\n",
            "2020-06-15 18:13:36 [7fde3bc63700] INFO: Opened BCL file '/content/out/Data/Intensities/BaseCalls/L001/C11.1/s_1_1103.bcl.gz' with 1 clusters\n",
            "2020-06-15 18:13:36 [7fde3c464700] INFO: Opened BCL file '/content/out/Data/Intensities/BaseCalls/L001/C12.1/s_1_1103.bcl.gz' with 1 clusters\n",
            "2020-06-15 18:13:36 [7fde3bc63700] INFO: Opened BCL file '/content/out/Data/Intensities/BaseCalls/L001/C13.1/s_1_1103.bcl.gz' with 1 clusters\n",
            "2020-06-15 18:13:36 [7fde3c464700] INFO: Opened BCL file '/content/out/Data/Intensities/BaseCalls/L001/C14.1/s_1_1103.bcl.gz' with 1 clusters\n",
            "2020-06-15 18:13:36 [7fde3bc63700] INFO: Opened BCL file '/content/out/Data/Intensities/BaseCalls/L001/C15.1/s_1_1103.bcl.gz' with 1 clusters\n",
            "2020-06-15 18:13:36 [7fde3c464700] INFO: Opened BCL file '/content/out/Data/Intensities/BaseCalls/L001/C16.1/s_1_1103.bcl.gz' with 1 clusters\n",
            "2020-06-15 18:13:36 [7fde3bc63700] INFO: Opened BCL file '/content/out/Data/Intensities/BaseCalls/L001/C17.1/s_1_1103.bcl.gz' with 1 clusters\n",
            "2020-06-15 18:13:36 [7fde3c464700] INFO: Opened BCL file '/content/out/Data/Intensities/BaseCalls/L001/C18.1/s_1_1103.bcl.gz' with 1 clusters\n",
            "2020-06-15 18:13:36 [7fde3bc63700] INFO: Opened BCL file '/content/out/Data/Intensities/BaseCalls/L001/C19.1/s_1_1103.bcl.gz' with 1 clusters\n",
            "2020-06-15 18:13:36 [7fde3c464700] INFO: Opened BCL file '/content/out/Data/Intensities/BaseCalls/L001/C20.1/s_1_1103.bcl.gz' with 1 clusters\n",
            "2020-06-15 18:13:36 [7fde3bc63700] INFO: Opened BCL file '/content/out/Data/Intensities/BaseCalls/L001/C21.1/s_1_1103.bcl.gz' with 1 clusters\n",
            "2020-06-15 18:13:36 [7fde3c464700] INFO: Opened BCL file '/content/out/Data/Intensities/BaseCalls/L001/C22.1/s_1_1103.bcl.gz' with 1 clusters\n",
            "2020-06-15 18:13:36 [7fde3bc63700] INFO: Opened BCL file '/content/out/Data/Intensities/BaseCalls/L001/C23.1/s_1_1103.bcl.gz' with 1 clusters\n",
            "2020-06-15 18:13:36 [7fde3c464700] INFO: Opened BCL file '/content/out/Data/Intensities/BaseCalls/L001/C24.1/s_1_1103.bcl.gz' with 1 clusters\n",
            "2020-06-15 18:13:36 [7fde3bc63700] INFO: Opened BCL file '/content/out/Data/Intensities/BaseCalls/L001/C25.1/s_1_1103.bcl.gz' with 1 clusters\n",
            "2020-06-15 18:13:36 [7fde3bc63700] INFO: Opened BCL file '/content/out/Data/Intensities/BaseCalls/L001/C27.1/s_1_1103.bcl.gz' with 1 clusters\n",
            "2020-06-15 18:13:36 [7fde3c464700] INFO: Opened BCL file '/content/out/Data/Intensities/BaseCalls/L001/C26.1/s_1_1103.bcl.gz' with 1 clusters\n",
            "2020-06-15 18:13:36 [7fde3c464700] INFO: Opened BCL file '/content/out/Data/Intensities/BaseCalls/L001/C28.1/s_1_1103.bcl.gz' with 1 clusters\n",
            "2020-06-15 18:13:36 [7fde3c464700] INFO: Opened BCL file '/content/out/Data/Intensities/BaseCalls/L001/C29.1/s_1_1103.bcl.gz' with 1 clusters\n",
            "2020-06-15 18:13:36 [7fde3c464700] INFO: Opened BCL file '/content/out/Data/Intensities/BaseCalls/L001/C30.1/s_1_1103.bcl.gz' with 1 clusters\n",
            "2020-06-15 18:13:36 [7fde3c464700] INFO: Opened BCL file '/content/out/Data/Intensities/BaseCalls/L001/C32.1/s_1_1103.bcl.gz' with 1 clusters\n",
            "2020-06-15 18:13:36 [7fde3c464700] INFO: Opened BCL file '/content/out/Data/Intensities/BaseCalls/L001/C33.1/s_1_1103.bcl.gz' with 1 clusters\n",
            "2020-06-15 18:13:36 [7fde3bc63700] INFO: Opened BCL file '/content/out/Data/Intensities/BaseCalls/L001/C31.1/s_1_1103.bcl.gz' with 1 clusters\n",
            "2020-06-15 18:13:36 [7fde3bc63700] INFO: Opened BCL file '/content/out/Data/Intensities/BaseCalls/L001/C35.1/s_1_1103.bcl.gz' with 1 clusters\n",
            "2020-06-15 18:13:36 [7fde3bc63700] INFO: Opened BCL file '/content/out/Data/Intensities/BaseCalls/L001/C36.1/s_1_1103.bcl.gz' with 1 clusters\n",
            "2020-06-15 18:13:36 [7fde3c464700] INFO: Opened BCL file '/content/out/Data/Intensities/BaseCalls/L001/C34.1/s_1_1103.bcl.gz' with 1 clusters\n",
            "2020-06-15 18:13:36 [7fde3c464700] INFO: Opened BCL file '/content/out/Data/Intensities/BaseCalls/L001/C38.1/s_1_1103.bcl.gz' with 1 clusters\n",
            "2020-06-15 18:13:36 [7fde3bc63700] INFO: Opened BCL file '/content/out/Data/Intensities/BaseCalls/L001/C37.1/s_1_1103.bcl.gz' with 1 clusters\n",
            "2020-06-15 18:13:36 [7fde3c464700] INFO: Opened BCL file '/content/out/Data/Intensities/BaseCalls/L001/C39.1/s_1_1103.bcl.gz' with 1 clusters\n",
            "2020-06-15 18:13:36 [7fde3c464700] INFO: Opened BCL file '/content/out/Data/Intensities/BaseCalls/L001/C40.1/s_1_1103.bcl.gz' with 1 clusters\n",
            "2020-06-15 18:13:36 [7fde3c464700] INFO: Opened BCL file '/content/out/Data/Intensities/BaseCalls/L001/C41.1/s_1_1103.bcl.gz' with 1 clusters\n",
            "2020-06-15 18:13:36 [7fde3bc63700] INFO: Opened BCL file '/content/out/Data/Intensities/BaseCalls/L001/C42.1/s_1_1103.bcl.gz' with 1 clusters\n",
            "2020-06-15 18:13:36 [187e900] INFO: Created InterOp file '\"/content/out/InterOp/IndexMetricsOut.bin\"\n",
            "2020-06-15 18:13:36 [187e900] Processing completed with 0 errors and 1 warnings.\n"
          ],
          "name": "stdout"
        }
      ]
    },
    {
      "cell_type": "code",
      "metadata": {
        "id": "lWh8GY-ixqaZ",
        "colab_type": "code",
        "outputId": "81ff8773-431c-4d0a-a4bb-d91b4ea1ca01",
        "colab": {
          "base_uri": "https://localhost:8080/",
          "height": 151
        }
      },
      "source": [
        "!ls -lht out/Data/Intensities/BaseCalls/"
      ],
      "execution_count": 33,
      "outputs": [
        {
          "output_type": "stream",
          "text": [
            "total 28K\n",
            "-rw-r--r--  1 root root  217 Jun 15 18:13 Plate1-A01_S1_L001_R1_001.fastq.gz\n",
            "-rw-r--r--  1 root root  105 Jun 15 18:13 Plate1-A02_S2_L001_R1_001.fastq.gz\n",
            "-rw-r--r--  1 root root  250 Jun 15 18:10 Undetermined_S0_L001_I1_001.fastq.gz\n",
            "-rw-r--r--  1 root root  257 Jun 15 18:10 Undetermined_S0_L001_I2_001.fastq.gz\n",
            "drwxr-xr-x  3 root root 4.0K Jun 15 18:09 Reports\n",
            "drwxr-xr-x  2 root root 4.0K Jun 15 18:09 Stats\n",
            "drwxr-xr-x 44 root root 4.0K Jun 15 18:09 L001\n"
          ],
          "name": "stdout"
        }
      ]
    },
    {
      "cell_type": "markdown",
      "metadata": {
        "id": "m0sNoXw7yVsP",
        "colab_type": "text"
      },
      "source": [
        "## Observe how the barcodes are corrected"
      ]
    },
    {
      "cell_type": "code",
      "metadata": {
        "id": "PtZJ4eCKyCiF",
        "colab_type": "code",
        "outputId": "96e1ad7c-3360-4fae-a6fa-b014062ca163",
        "colab": {
          "base_uri": "https://localhost:8080/",
          "height": 151
        }
      },
      "source": [
        "!zcat out/Data/Intensities/BaseCalls/Plate1-A01_S1_L001_R1_001.fastq.gz"
      ],
      "execution_count": 34,
      "outputs": [
        {
          "output_type": "stream",
          "text": [
            "@X00000:001:000000000-X00XX:1:1101:263540:58940 1:N:0:AAAAAAAA+CAAAAACC\n",
            "TGGCATTTCTACTCTTTCTCAATCCC\n",
            "+\n",
            "AAAAAEEEEEEEEEEEEEEEEEEEEE\n",
            "@X00000:001:000000000-X00XX:1:1103:244260:58950 1:N:0:AAAAAAAA+CAAAAAAC\n",
            "TGGCGGCGATTGCGTACCCGACGACC\n",
            "+\n",
            "AAAAAEEEEEEEEEEEEEEEEEE/EE\n"
          ],
          "name": "stdout"
        }
      ]
    },
    {
      "cell_type": "code",
      "metadata": {
        "id": "sJSelc9pyQMf",
        "colab_type": "code",
        "outputId": "e13cbef9-bd37-45d7-a206-73d561c12767",
        "colab": {
          "base_uri": "https://localhost:8080/",
          "height": 84
        }
      },
      "source": [
        "!zcat out/Data/Intensities/BaseCalls/Plate1-A02_S2_L001_R1_001.fastq.gz"
      ],
      "execution_count": 35,
      "outputs": [
        {
          "output_type": "stream",
          "text": [
            "@X00000:001:000000000-X00XX:1:1102:107160:58940 1:N:0:AAAAAAAA+AAAAAAAA\n",
            "GTTTCCGTTGCTGCCATCTCAAAAAC\n",
            "+\n",
            "AAAAAEEEEEEEEEEEEEEEEEEEEE\n"
          ],
          "name": "stdout"
        }
      ]
    },
    {
      "cell_type": "code",
      "metadata": {
        "id": "g_PbJu6yyTVt",
        "colab_type": "code",
        "colab": {}
      },
      "source": [
        ""
      ],
      "execution_count": 0,
      "outputs": []
    }
  ]
}