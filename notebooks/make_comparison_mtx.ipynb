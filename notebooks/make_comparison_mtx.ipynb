{
  "nbformat": 4,
  "nbformat_minor": 0,
  "metadata": {
    "kernelspec": {
      "display_name": "Python 3",
      "language": "python",
      "name": "python3"
    },
    "language_info": {
      "codemirror_mode": {
        "name": "ipython",
        "version": 3
      },
      "file_extension": ".py",
      "mimetype": "text/x-python",
      "name": "python",
      "nbconvert_exporter": "python",
      "pygments_lexer": "ipython3",
      "version": "3.7.4"
    },
    "colab": {
      "name": "make_comparison_mtx.ipynb",
      "provenance": [],
      "include_colab_link": true
    }
  },
  "cells": [
    {
      "cell_type": "markdown",
      "metadata": {
        "id": "view-in-github",
        "colab_type": "text"
      },
      "source": [
        "<a href=\"https://colab.research.google.com/github/pachterlab/BLCSBGLKP_2020/blob/master/notebooks/make_comparison_mtx.ipynb\" target=\"_parent\"><img src=\"https://colab.research.google.com/assets/colab-badge.svg\" alt=\"Open In Colab\"/></a>"
      ]
    },
    {
      "cell_type": "code",
      "metadata": {
        "id": "Gzl27ColO5wP",
        "colab_type": "code",
        "colab": {
          "base_uri": "https://localhost:8080/",
          "height": 34
        },
        "outputId": "c1568467-aef3-4c85-caae-c674518e1b51"
      },
      "source": [
        "!date"
      ],
      "execution_count": 1,
      "outputs": [
        {
          "output_type": "stream",
          "text": [
            "Mon May 11 05:37:13 UTC 2020\n"
          ],
          "name": "stdout"
        }
      ]
    },
    {
      "cell_type": "code",
      "metadata": {
        "id": "dx6vmIffO5wY",
        "colab_type": "code",
        "colab": {
          "base_uri": "https://localhost:8080/",
          "height": 136
        },
        "outputId": "9046a455-250f-4253-f10a-f52bf4e4646b"
      },
      "source": [
        "!git clone https://github.com/pachterlab/BLCSBGLKP_2020.git"
      ],
      "execution_count": 2,
      "outputs": [
        {
          "output_type": "stream",
          "text": [
            "Cloning into 'BLCSBGLKP_2020'...\n",
            "remote: Enumerating objects: 161, done.\u001b[K\n",
            "remote: Counting objects: 100% (161/161), done.\u001b[K\n",
            "remote: Compressing objects: 100% (146/146), done.\u001b[K\n",
            "remote: Total 161 (delta 43), reused 77 (delta 10), pack-reused 0\u001b[K\n",
            "Receiving objects: 100% (161/161), 33.45 MiB | 10.98 MiB/s, done.\n",
            "Resolving deltas: 100% (43/43), done.\n"
          ],
          "name": "stdout"
        }
      ]
    },
    {
      "cell_type": "code",
      "metadata": {
        "id": "5PUrGW7oO5wj",
        "colab_type": "code",
        "colab": {
          "base_uri": "https://localhost:8080/",
          "height": 326
        },
        "outputId": "ad41acb5-b435-4235-c5e4-c5da519e7ef1"
      },
      "source": [
        "!pip install anndata"
      ],
      "execution_count": 3,
      "outputs": [
        {
          "output_type": "stream",
          "text": [
            "Collecting anndata\n",
            "\u001b[?25l  Downloading https://files.pythonhosted.org/packages/5b/c8/5c594a95ba293433dfe1cf188075ccbabe495bf2d291be744974aca85ffc/anndata-0.7.1-py3-none-any.whl (97kB)\n",
            "\r\u001b[K     |███▍                            | 10kB 17.2MB/s eta 0:00:01\r\u001b[K     |██████▊                         | 20kB 1.7MB/s eta 0:00:01\r\u001b[K     |██████████                      | 30kB 2.3MB/s eta 0:00:01\r\u001b[K     |█████████████▍                  | 40kB 2.5MB/s eta 0:00:01\r\u001b[K     |████████████████▊               | 51kB 2.0MB/s eta 0:00:01\r\u001b[K     |████████████████████▏           | 61kB 2.3MB/s eta 0:00:01\r\u001b[K     |███████████████████████▌        | 71kB 2.5MB/s eta 0:00:01\r\u001b[K     |██████████████████████████▉     | 81kB 2.7MB/s eta 0:00:01\r\u001b[K     |██████████████████████████████▏ | 92kB 2.9MB/s eta 0:00:01\r\u001b[K     |████████████████████████████████| 102kB 2.6MB/s \n",
            "\u001b[?25hRequirement already satisfied: importlib-metadata>=0.7; python_version < \"3.8\" in /usr/local/lib/python3.6/dist-packages (from anndata) (1.6.0)\n",
            "Requirement already satisfied: natsort in /usr/local/lib/python3.6/dist-packages (from anndata) (5.5.0)\n",
            "Requirement already satisfied: packaging in /usr/local/lib/python3.6/dist-packages (from anndata) (20.3)\n",
            "Requirement already satisfied: pandas>=0.23.0 in /usr/local/lib/python3.6/dist-packages (from anndata) (1.0.3)\n",
            "Requirement already satisfied: scipy~=1.0 in /usr/local/lib/python3.6/dist-packages (from anndata) (1.4.1)\n",
            "Requirement already satisfied: h5py in /usr/local/lib/python3.6/dist-packages (from anndata) (2.10.0)\n",
            "Requirement already satisfied: numpy~=1.14 in /usr/local/lib/python3.6/dist-packages (from anndata) (1.18.4)\n",
            "Requirement already satisfied: zipp>=0.5 in /usr/local/lib/python3.6/dist-packages (from importlib-metadata>=0.7; python_version < \"3.8\"->anndata) (3.1.0)\n",
            "Requirement already satisfied: six in /usr/local/lib/python3.6/dist-packages (from packaging->anndata) (1.12.0)\n",
            "Requirement already satisfied: pyparsing>=2.0.2 in /usr/local/lib/python3.6/dist-packages (from packaging->anndata) (2.4.7)\n",
            "Requirement already satisfied: pytz>=2017.2 in /usr/local/lib/python3.6/dist-packages (from pandas>=0.23.0->anndata) (2018.9)\n",
            "Requirement already satisfied: python-dateutil>=2.6.1 in /usr/local/lib/python3.6/dist-packages (from pandas>=0.23.0->anndata) (2.8.1)\n",
            "Installing collected packages: anndata\n",
            "Successfully installed anndata-0.7.1\n"
          ],
          "name": "stdout"
        }
      ]
    },
    {
      "cell_type": "markdown",
      "metadata": {
        "id": "GujX_OMFO5wr",
        "colab_type": "text"
      },
      "source": [
        "# Make matrix for comparison with TRB and LAMP"
      ]
    },
    {
      "cell_type": "code",
      "metadata": {
        "id": "VNpcaU4VO5ws",
        "colab_type": "code",
        "colab": {
          "base_uri": "https://localhost:8080/",
          "height": 71
        },
        "outputId": "6cd4f7f8-e51d-44ff-a7a6-d1503576392e"
      },
      "source": [
        "import pandas as pd\n",
        "import numpy as np\n",
        "import matplotlib.pyplot as plt\n",
        "import matplotlib as mpl\n",
        "import matplotlib.patches as mpatches\n",
        "from mpl_toolkits.axes_grid1 import make_axes_locatable\n",
        "\n",
        "import string\n",
        "import anndata\n",
        "from collections import defaultdict\n",
        "\n",
        "from sklearn.manifold import TSNE\n",
        "from sklearn.cluster import KMeans\n",
        "from sklearn.preprocessing import scale\n",
        "from sklearn.preprocessing import normalize\n",
        "from sklearn.decomposition import TruncatedSVD\n",
        "from sklearn.linear_model import LogisticRegression, LinearRegression, Ridge\n",
        "from sklearn.model_selection import train_test_split\n",
        "from sklearn import metrics\n",
        "from scipy.special import expit as sigmoid\n",
        "\n",
        "\n",
        "def nd(arr):\n",
        "    return np.asarray(arr).reshape(-1)\n",
        "\n",
        "def yex(ax):\n",
        "    lims = [\n",
        "        np.min([ax.get_xlim(), ax.get_ylim()]),  # min of both axes\n",
        "        np.max([ax.get_xlim(), ax.get_ylim()]),  # max of both axes\n",
        "    ]\n",
        "    \n",
        "    # now plot both limits against eachother\n",
        "    #ax.plot(lims, lims, 'k-', alpha=0.75, zorder=0)\n",
        "    ax.set_aspect('equal')\n",
        "    ax.set_xlim(lims)\n",
        "    ax.set_ylim(lims)\n",
        "    return ax\n",
        "\n",
        "fsize=15\n",
        "\n",
        "plt.rcParams.update({'font.size': fsize})\n",
        "%config InlineBackend.figure_format = 'retina'"
      ],
      "execution_count": 4,
      "outputs": [
        {
          "output_type": "stream",
          "text": [
            "/usr/local/lib/python3.6/dist-packages/anndata/_core/anndata.py:21: FutureWarning: pandas.core.index is deprecated and will be removed in a future version.  The public classes are available in the top-level namespace.\n",
            "  from pandas.core.index import RangeIndex\n"
          ],
          "name": "stderr"
        }
      ]
    },
    {
      "cell_type": "code",
      "metadata": {
        "id": "18l2NigfO5wy",
        "colab_type": "code",
        "colab": {
          "base_uri": "https://localhost:8080/",
          "height": 34
        },
        "outputId": "8ddd133d-0375-4023-a161-0e7e0263664d"
      },
      "source": [
        "adata = anndata.read_h5ad(\"BLCSBGLKP_2020/data/kb/adata.h5ad\")\n",
        "adata = adata[:,adata.var.sort_values(\"gene\").index]\n",
        "\n",
        "adata.obs[\"Twist_bool\"] = np.logical_and(adata.obs.ATCC_viral.values==0, adata.obs.ATCC_RNA.values==0)\n",
        "adata.obs[\"ATCC_viral_bool\"] = np.logical_and(adata.obs.Twist.values==0, adata.obs.ATCC_RNA.values==0)\n",
        "adata.obs[\"ATCC_RNA_bool\"] = np.logical_and(adata.obs.Twist.values==0, adata.obs.ATCC_viral.values==0)"
      ],
      "execution_count": 5,
      "outputs": [
        {
          "output_type": "stream",
          "text": [
            "Trying to set attribute `.obs` of view, copying.\n"
          ],
          "name": "stderr"
        }
      ]
    },
    {
      "cell_type": "code",
      "metadata": {
        "id": "po75dcF0O5w9",
        "colab_type": "code",
        "colab": {}
      },
      "source": [
        "mtx = adata.layers[\"raw\"]\n",
        "gene = adata.var.gene.values\n",
        "obs = adata.obs\n",
        "\n",
        "p, l, g, c = (\"Plate1\", \"HEK293\", \"N1\", \"Twist\")\n",
        "\n",
        "pmask = obs.plate.values==p\n",
        "cmask = obs[c+\"_bool\"].values\n",
        "lmask = obs.lysate.values==l\n",
        "gzero = obs[c].values>0\n",
        "\n",
        "m = np.logical_and.reduce([pmask, cmask, lmask])#, gzero])\n",
        "vm = np.logical_or.reduce([gene==g, gene==g+\"_spikein\", gene==\"RPP30\"])\n",
        "\n",
        "s_idx = np.where(gene==g+\"_spikein\")\n",
        "v_idx = np.where(gene==g)"
      ],
      "execution_count": 0,
      "outputs": []
    },
    {
      "cell_type": "code",
      "metadata": {
        "id": "-uicDkkbO5xO",
        "colab_type": "code",
        "colab": {
          "base_uri": "https://localhost:8080/",
          "height": 34
        },
        "outputId": "c3c64779-44ad-4ad1-b903-f5fcbad6e7e5"
      },
      "source": [
        "gene[vm]"
      ],
      "execution_count": 7,
      "outputs": [
        {
          "output_type": "execute_result",
          "data": {
            "text/plain": [
              "array(['N1', 'N1_spikein', 'RPP30'], dtype=object)"
            ]
          },
          "metadata": {
            "tags": []
          },
          "execution_count": 7
        }
      ]
    },
    {
      "cell_type": "code",
      "metadata": {
        "id": "CXPmNCahO5xY",
        "colab_type": "code",
        "colab": {
          "base_uri": "https://localhost:8080/",
          "height": 187
        },
        "outputId": "e153ca3c-52de-4bd9-f8a9-ce70929a3458"
      },
      "source": [
        "mtx[m][:,vm].astype(int)[0:10]"
      ],
      "execution_count": 8,
      "outputs": [
        {
          "output_type": "execute_result",
          "data": {
            "text/plain": [
              "array([[ 36528,  11486,      3],\n",
              "       [269101,  34082,     69],\n",
              "       [ 71000,   4920,     36],\n",
              "       [275256,  13136,     52],\n",
              "       [   328,  71991,      1],\n",
              "       [   251,  42350,      5],\n",
              "       [  2285, 113329,      3],\n",
              "       [    59, 168450,      9],\n",
              "       [  7891,  69550,      8],\n",
              "       [ 27664, 129199,    150]])"
            ]
          },
          "metadata": {
            "tags": []
          },
          "execution_count": 8
        }
      ]
    },
    {
      "cell_type": "markdown",
      "metadata": {
        "id": "hd6Tn65BO5xd",
        "colab_type": "text"
      },
      "source": [
        "# Save"
      ]
    },
    {
      "cell_type": "code",
      "metadata": {
        "id": "rjZnPrbXO5xd",
        "colab_type": "code",
        "colab": {}
      },
      "source": [
        "!mkdir temporary"
      ],
      "execution_count": 0,
      "outputs": []
    },
    {
      "cell_type": "code",
      "metadata": {
        "id": "AfKXxZEvO5xg",
        "colab_type": "code",
        "colab": {}
      },
      "source": [
        "np.savetxt(\"temporary/mtx.csv\", mtx.astype(int)[m][:,vm], delimiter=\",\", fmt=\"%.0f\") \n",
        "obs[\"bcs\"][m].to_csv(\"temporary/ss_bcs.txt\", index=False, header=None)"
      ],
      "execution_count": 0,
      "outputs": []
    },
    {
      "cell_type": "code",
      "metadata": {
        "id": "goXxx5q_O5xj",
        "colab_type": "code",
        "colab": {}
      },
      "source": [
        ""
      ],
      "execution_count": 0,
      "outputs": []
    }
  ]
}